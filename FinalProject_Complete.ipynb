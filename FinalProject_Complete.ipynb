{
 "cells": [
  {
   "cell_type": "markdown",
   "metadata": {},
   "source": [
    "# Final Project"
   ]
  },
  {
   "cell_type": "code",
   "execution_count": 1,
   "metadata": {},
   "outputs": [],
   "source": [
    "import numpy as np \n",
    "import scipy as sp \n",
    "import matplotlib.pyplot as plt\n",
    "import statsmodels.api as sm \n",
    "import statsmodels.formula.api as smf \n",
    "import pandas as pd \n",
    "from statsmodels.stats.outliers_influence import OLSInfluence \n",
    "from statsmodels.stats.outliers_influence import variance_inflation_factor \n",
    "from scipy.stats.mstats import zscore \n",
    "%matplotlib inline "
   ]
  },
  {
   "cell_type": "markdown",
   "metadata": {
    "slideshow": {
     "slide_type": "subslide"
    }
   },
   "source": [
    "## Problem 1\n",
    "\n",
    "**Job Proficiency**\n",
    "A personnel officer in a governmental agency administered four newly developed aptitude tests to each of 25 applicants for entry-level clerical positions in the agency. For purpose of the study, all 25 applicants were accepted for positions irrespective of their test scores. After a probationary period, each applicant was rated for proficiency on the job. The scores on the four tests $(X_1, X_2, X_3, X_4)$ (Columns 2-5) and the job proficiency score ($Y$) (Column 1) for the 25 employees are stored in \"JobProficiency.txt\".\n",
    "\n",
    "(A1) Fit the multiple regression function containing all four predictor variables as first-order\n",
    "terms. Does it appear that all predictor variables should be retained?\n",
    "\n",
    "(A2) Using forward stepwise regression, find the best subset of predictor variables to predict job\n",
    "proficiency. Use $\\alpha$ limits of $.05$ and $.10$ for adding or deleting a variable, respectively.\n",
    "\n",
    "(A3) To assess internally the predictive ability of\n",
    "the regression model identified in (A2). compute the PRESS statistic and compare it\n",
    "to SSE. What does this comparison suggest about the validity of MSE as an indicator of the\n",
    "predictive ability of the fitted model?\n",
    "\n",
    "(B1) To assess externally the validity of the\n",
    "regression model identified in Part (A2). 25 additional applicants for entry-level clerical\n",
    "positions in the agency were similarly tested and hired irrespective of their test scores. The data are stored in\n",
    "JobProficiency_validation.txt. Fit the regression model identified in (A2) to the validation data set. Compare the\n",
    "estimated regression coefficients and their estimated standard deviations to those obtained\n",
    "in (A2). Also compare the MSE and coefficients of multiple determination. Do the estimates for the validation data set appear to be reasonably similar to those obtained for the model-building data set?\n",
    "\n",
    "(B2) Use the model obtained from (A2) to calculate the mean squared prediction error (MSPR) for the validation data and compare it to MSE obtained from\n",
    "the model-building data set. Is there evidence of a substantial bias problem in MSE here?\n",
    "\n",
    "(C1) For this question and the following ones, consider that a subset model containing only first-order\n",
    "terms in $x_1$ and $x_3$ is to be evaluated in detail, and the training data are used. Obtain the studentized deleted residuals and identify any outlying $y$ observations. Use $\\alpha=0.05$.\n",
    "\n",
    "(C2) Obtain the diagonal elements of the hat matrix. Using the rule of thumb discussed in the notes, identify\n",
    "any outlying $x$ observations.\n",
    "\n",
    "(C3) For those outlying cases found in (C1) and (C2), obtain DFFITS, DFBETAS\n",
    "and Cook's distance values for these cases to assess their influence. What do you conclude?\n",
    "\n",
    "(C4) Obtain the variance inflation factors. What do they indicate?"
   ]
  },
  {
   "cell_type": "markdown",
   "metadata": {},
   "source": [
    "## (A1)"
   ]
  },
  {
   "cell_type": "code",
   "execution_count": 2,
   "metadata": {},
   "outputs": [
    {
     "data": {
      "text/html": [
       "<div>\n",
       "<style scoped>\n",
       "    .dataframe tbody tr th:only-of-type {\n",
       "        vertical-align: middle;\n",
       "    }\n",
       "\n",
       "    .dataframe tbody tr th {\n",
       "        vertical-align: top;\n",
       "    }\n",
       "\n",
       "    .dataframe thead th {\n",
       "        text-align: right;\n",
       "    }\n",
       "</style>\n",
       "<table border=\"1\" class=\"dataframe\">\n",
       "  <thead>\n",
       "    <tr style=\"text-align: right;\">\n",
       "      <th></th>\n",
       "      <th>JobProficiency</th>\n",
       "      <th>Test1</th>\n",
       "      <th>Test2</th>\n",
       "      <th>Test3</th>\n",
       "      <th>Test4</th>\n",
       "    </tr>\n",
       "  </thead>\n",
       "  <tbody>\n",
       "    <tr>\n",
       "      <td>0</td>\n",
       "      <td>88.0</td>\n",
       "      <td>86.0</td>\n",
       "      <td>110.0</td>\n",
       "      <td>100.0</td>\n",
       "      <td>87.0</td>\n",
       "    </tr>\n",
       "    <tr>\n",
       "      <td>1</td>\n",
       "      <td>80.0</td>\n",
       "      <td>62.0</td>\n",
       "      <td>97.0</td>\n",
       "      <td>99.0</td>\n",
       "      <td>100.0</td>\n",
       "    </tr>\n",
       "    <tr>\n",
       "      <td>2</td>\n",
       "      <td>96.0</td>\n",
       "      <td>110.0</td>\n",
       "      <td>107.0</td>\n",
       "      <td>103.0</td>\n",
       "      <td>103.0</td>\n",
       "    </tr>\n",
       "    <tr>\n",
       "      <td>3</td>\n",
       "      <td>76.0</td>\n",
       "      <td>101.0</td>\n",
       "      <td>117.0</td>\n",
       "      <td>93.0</td>\n",
       "      <td>95.0</td>\n",
       "    </tr>\n",
       "    <tr>\n",
       "      <td>4</td>\n",
       "      <td>80.0</td>\n",
       "      <td>100.0</td>\n",
       "      <td>101.0</td>\n",
       "      <td>95.0</td>\n",
       "      <td>88.0</td>\n",
       "    </tr>\n",
       "    <tr>\n",
       "      <td>5</td>\n",
       "      <td>73.0</td>\n",
       "      <td>78.0</td>\n",
       "      <td>85.0</td>\n",
       "      <td>95.0</td>\n",
       "      <td>84.0</td>\n",
       "    </tr>\n",
       "    <tr>\n",
       "      <td>6</td>\n",
       "      <td>58.0</td>\n",
       "      <td>120.0</td>\n",
       "      <td>77.0</td>\n",
       "      <td>80.0</td>\n",
       "      <td>74.0</td>\n",
       "    </tr>\n",
       "    <tr>\n",
       "      <td>7</td>\n",
       "      <td>116.0</td>\n",
       "      <td>105.0</td>\n",
       "      <td>122.0</td>\n",
       "      <td>116.0</td>\n",
       "      <td>102.0</td>\n",
       "    </tr>\n",
       "    <tr>\n",
       "      <td>8</td>\n",
       "      <td>104.0</td>\n",
       "      <td>112.0</td>\n",
       "      <td>119.0</td>\n",
       "      <td>106.0</td>\n",
       "      <td>105.0</td>\n",
       "    </tr>\n",
       "    <tr>\n",
       "      <td>9</td>\n",
       "      <td>99.0</td>\n",
       "      <td>120.0</td>\n",
       "      <td>89.0</td>\n",
       "      <td>105.0</td>\n",
       "      <td>97.0</td>\n",
       "    </tr>\n",
       "    <tr>\n",
       "      <td>10</td>\n",
       "      <td>64.0</td>\n",
       "      <td>87.0</td>\n",
       "      <td>81.0</td>\n",
       "      <td>90.0</td>\n",
       "      <td>88.0</td>\n",
       "    </tr>\n",
       "    <tr>\n",
       "      <td>11</td>\n",
       "      <td>126.0</td>\n",
       "      <td>133.0</td>\n",
       "      <td>120.0</td>\n",
       "      <td>113.0</td>\n",
       "      <td>108.0</td>\n",
       "    </tr>\n",
       "    <tr>\n",
       "      <td>12</td>\n",
       "      <td>94.0</td>\n",
       "      <td>140.0</td>\n",
       "      <td>121.0</td>\n",
       "      <td>96.0</td>\n",
       "      <td>89.0</td>\n",
       "    </tr>\n",
       "    <tr>\n",
       "      <td>13</td>\n",
       "      <td>71.0</td>\n",
       "      <td>84.0</td>\n",
       "      <td>113.0</td>\n",
       "      <td>98.0</td>\n",
       "      <td>78.0</td>\n",
       "    </tr>\n",
       "    <tr>\n",
       "      <td>14</td>\n",
       "      <td>111.0</td>\n",
       "      <td>106.0</td>\n",
       "      <td>102.0</td>\n",
       "      <td>109.0</td>\n",
       "      <td>109.0</td>\n",
       "    </tr>\n",
       "    <tr>\n",
       "      <td>15</td>\n",
       "      <td>109.0</td>\n",
       "      <td>109.0</td>\n",
       "      <td>129.0</td>\n",
       "      <td>102.0</td>\n",
       "      <td>108.0</td>\n",
       "    </tr>\n",
       "    <tr>\n",
       "      <td>16</td>\n",
       "      <td>100.0</td>\n",
       "      <td>104.0</td>\n",
       "      <td>83.0</td>\n",
       "      <td>100.0</td>\n",
       "      <td>102.0</td>\n",
       "    </tr>\n",
       "    <tr>\n",
       "      <td>17</td>\n",
       "      <td>127.0</td>\n",
       "      <td>150.0</td>\n",
       "      <td>118.0</td>\n",
       "      <td>107.0</td>\n",
       "      <td>110.0</td>\n",
       "    </tr>\n",
       "    <tr>\n",
       "      <td>18</td>\n",
       "      <td>99.0</td>\n",
       "      <td>98.0</td>\n",
       "      <td>125.0</td>\n",
       "      <td>108.0</td>\n",
       "      <td>95.0</td>\n",
       "    </tr>\n",
       "    <tr>\n",
       "      <td>19</td>\n",
       "      <td>82.0</td>\n",
       "      <td>120.0</td>\n",
       "      <td>94.0</td>\n",
       "      <td>95.0</td>\n",
       "      <td>90.0</td>\n",
       "    </tr>\n",
       "    <tr>\n",
       "      <td>20</td>\n",
       "      <td>67.0</td>\n",
       "      <td>74.0</td>\n",
       "      <td>121.0</td>\n",
       "      <td>91.0</td>\n",
       "      <td>85.0</td>\n",
       "    </tr>\n",
       "    <tr>\n",
       "      <td>21</td>\n",
       "      <td>109.0</td>\n",
       "      <td>96.0</td>\n",
       "      <td>114.0</td>\n",
       "      <td>114.0</td>\n",
       "      <td>103.0</td>\n",
       "    </tr>\n",
       "    <tr>\n",
       "      <td>22</td>\n",
       "      <td>78.0</td>\n",
       "      <td>104.0</td>\n",
       "      <td>73.0</td>\n",
       "      <td>93.0</td>\n",
       "      <td>80.0</td>\n",
       "    </tr>\n",
       "    <tr>\n",
       "      <td>23</td>\n",
       "      <td>115.0</td>\n",
       "      <td>94.0</td>\n",
       "      <td>121.0</td>\n",
       "      <td>115.0</td>\n",
       "      <td>104.0</td>\n",
       "    </tr>\n",
       "    <tr>\n",
       "      <td>24</td>\n",
       "      <td>83.0</td>\n",
       "      <td>91.0</td>\n",
       "      <td>129.0</td>\n",
       "      <td>97.0</td>\n",
       "      <td>83.0</td>\n",
       "    </tr>\n",
       "  </tbody>\n",
       "</table>\n",
       "</div>"
      ],
      "text/plain": [
       "    JobProficiency  Test1  Test2  Test3  Test4\n",
       "0             88.0   86.0  110.0  100.0   87.0\n",
       "1             80.0   62.0   97.0   99.0  100.0\n",
       "2             96.0  110.0  107.0  103.0  103.0\n",
       "3             76.0  101.0  117.0   93.0   95.0\n",
       "4             80.0  100.0  101.0   95.0   88.0\n",
       "5             73.0   78.0   85.0   95.0   84.0\n",
       "6             58.0  120.0   77.0   80.0   74.0\n",
       "7            116.0  105.0  122.0  116.0  102.0\n",
       "8            104.0  112.0  119.0  106.0  105.0\n",
       "9             99.0  120.0   89.0  105.0   97.0\n",
       "10            64.0   87.0   81.0   90.0   88.0\n",
       "11           126.0  133.0  120.0  113.0  108.0\n",
       "12            94.0  140.0  121.0   96.0   89.0\n",
       "13            71.0   84.0  113.0   98.0   78.0\n",
       "14           111.0  106.0  102.0  109.0  109.0\n",
       "15           109.0  109.0  129.0  102.0  108.0\n",
       "16           100.0  104.0   83.0  100.0  102.0\n",
       "17           127.0  150.0  118.0  107.0  110.0\n",
       "18            99.0   98.0  125.0  108.0   95.0\n",
       "19            82.0  120.0   94.0   95.0   90.0\n",
       "20            67.0   74.0  121.0   91.0   85.0\n",
       "21           109.0   96.0  114.0  114.0  103.0\n",
       "22            78.0  104.0   73.0   93.0   80.0\n",
       "23           115.0   94.0  121.0  115.0  104.0\n",
       "24            83.0   91.0  129.0   97.0   83.0"
      ]
     },
     "execution_count": 2,
     "metadata": {},
     "output_type": "execute_result"
    }
   ],
   "source": [
    "#Show the data \n",
    "df = pd.read_csv('JobProficiency.txt', delim_whitespace=True, \n",
    "                 names = ['JobProficiency', 'Test1', 'Test2', 'Test3', 'Test4']) \n",
    "n = df.shape[0] \n",
    "df.head(n)"
   ]
  },
  {
   "cell_type": "markdown",
   "metadata": {},
   "source": [
    "Now, we will fit the multiple Regression function containing all four predictor variables as first-order terms."
   ]
  },
  {
   "cell_type": "code",
   "execution_count": 3,
   "metadata": {},
   "outputs": [
    {
     "name": "stdout",
     "output_type": "stream",
     "text": [
      "                            OLS Regression Results                            \n",
      "==============================================================================\n",
      "Dep. Variable:         JobProficiency   R-squared:                       0.963\n",
      "Model:                            OLS   Adj. R-squared:                  0.955\n",
      "Method:                 Least Squares   F-statistic:                     129.7\n",
      "Date:                Tue, 14 Jul 2020   Prob (F-statistic):           5.26e-14\n",
      "Time:                        14:24:29   Log-Likelihood:                -67.951\n",
      "No. Observations:                  25   AIC:                             145.9\n",
      "Df Residuals:                      20   BIC:                             152.0\n",
      "Df Model:                           4                                         \n",
      "Covariance Type:            nonrobust                                         \n",
      "==============================================================================\n",
      "                 coef    std err          t      P>|t|      [0.025      0.975]\n",
      "------------------------------------------------------------------------------\n",
      "Intercept   -124.3818      9.941    -12.512      0.000    -145.119    -103.645\n",
      "Test1          0.2957      0.044      6.725      0.000       0.204       0.387\n",
      "Test2          0.0483      0.057      0.853      0.404      -0.070       0.166\n",
      "Test3          1.3060      0.164      7.959      0.000       0.964       1.648\n",
      "Test4          0.5198      0.132      3.940      0.001       0.245       0.795\n",
      "==============================================================================\n",
      "Omnibus:                        3.256   Durbin-Watson:                   1.148\n",
      "Prob(Omnibus):                  0.196   Jarque-Bera (JB):                1.419\n",
      "Skew:                           0.139   Prob(JB):                        0.492\n",
      "Kurtosis:                       1.867   Cond. No.                     2.47e+03\n",
      "==============================================================================\n",
      "\n",
      "Warnings:\n",
      "[1] Standard Errors assume that the covariance matrix of the errors is correctly specified.\n",
      "[2] The condition number is large, 2.47e+03. This might indicate that there are\n",
      "strong multicollinearity or other numerical problems.\n"
     ]
    }
   ],
   "source": [
    "lm = smf.ols('JobProficiency~Test1+Test2+Test3+Test4', data=df).fit()\n",
    "print(lm.summary())"
   ]
  },
  {
   "cell_type": "code",
   "execution_count": 4,
   "metadata": {},
   "outputs": [
    {
     "name": "stdout",
     "output_type": "stream",
     "text": [
      "                            OLS Regression Results                            \n",
      "==============================================================================\n",
      "Dep. Variable:         JobProficiency   R-squared:                       0.962\n",
      "Model:                            OLS   Adj. R-squared:                  0.956\n",
      "Method:                 Least Squares   F-statistic:                     175.0\n",
      "Date:                Tue, 14 Jul 2020   Prob (F-statistic):           5.16e-15\n",
      "Time:                        14:24:29   Log-Likelihood:                -68.397\n",
      "No. Observations:                  25   AIC:                             144.8\n",
      "Df Residuals:                      21   BIC:                             149.7\n",
      "Df Model:                           3                                         \n",
      "Covariance Type:            nonrobust                                         \n",
      "==============================================================================\n",
      "                 coef    std err          t      P>|t|      [0.025      0.975]\n",
      "------------------------------------------------------------------------------\n",
      "Intercept   -124.2000      9.874    -12.578      0.000    -144.734    -103.666\n",
      "Test1          0.2963      0.044      6.784      0.000       0.205       0.387\n",
      "Test3          1.3570      0.152      8.937      0.000       1.041       1.673\n",
      "Test4          0.5174      0.131      3.948      0.001       0.245       0.790\n",
      "==============================================================================\n",
      "Omnibus:                        2.687   Durbin-Watson:                   1.203\n",
      "Prob(Omnibus):                  0.261   Jarque-Bera (JB):                1.314\n",
      "Skew:                           0.154   Prob(JB):                        0.519\n",
      "Kurtosis:                       1.920   Cond. No.                     2.10e+03\n",
      "==============================================================================\n",
      "\n",
      "Warnings:\n",
      "[1] Standard Errors assume that the covariance matrix of the errors is correctly specified.\n",
      "[2] The condition number is large, 2.1e+03. This might indicate that there are\n",
      "strong multicollinearity or other numerical problems.\n"
     ]
    }
   ],
   "source": [
    "lm = smf.ols('JobProficiency~Test1+Test3+Test4', data=df).fit()\n",
    "print(lm.summary())"
   ]
  },
  {
   "cell_type": "markdown",
   "metadata": {},
   "source": [
    "Thus, the fitted Regression function is \n",
    "\n",
    "$$\\hat{y} = -124.200 +  0.29634x_1 + 1.3570x_3 + 0.51744x_4$$"
   ]
  },
  {
   "cell_type": "markdown",
   "metadata": {},
   "source": [
    "The multiple Regression Function containing all four predictor variables is the following:\n",
    "\n",
    "$$\\hat{y} = -124.382 + 0.2957x_1 + 0.0483x_2 + 1.3060x_3 + 0.5198x_ 4$$"
   ]
  },
  {
   "cell_type": "code",
   "execution_count": 5,
   "metadata": {},
   "outputs": [
    {
     "name": "stdout",
     "output_type": "stream",
     "text": [
      "Regress absolute residual against Job Proficiency:\n",
      "                            OLS Regression Results                            \n",
      "==============================================================================\n",
      "Dep. Variable:                 AbsRes   R-squared:                       0.047\n",
      "Model:                            OLS   Adj. R-squared:                 -0.089\n",
      "Method:                 Least Squares   F-statistic:                    0.3472\n",
      "Date:                Tue, 14 Jul 2020   Prob (F-statistic):              0.792\n",
      "Time:                        14:24:29   Log-Likelihood:                -53.224\n",
      "No. Observations:                  25   AIC:                             114.4\n",
      "Df Residuals:                      21   BIC:                             119.3\n",
      "Df Model:                           3                                         \n",
      "Covariance Type:            nonrobust                                         \n",
      "==============================================================================\n",
      "                 coef    std err          t      P>|t|      [0.025      0.975]\n",
      "------------------------------------------------------------------------------\n",
      "Intercept      4.4073      5.382      0.819      0.422      -6.784      15.599\n",
      "Test1          0.0020      0.024      0.083      0.935      -0.048       0.051\n",
      "Test3         -0.0760      0.083     -0.919      0.369      -0.248       0.096\n",
      "Test4          0.0649      0.071      0.909      0.374      -0.084       0.213\n",
      "==============================================================================\n",
      "Omnibus:                        4.326   Durbin-Watson:                   2.192\n",
      "Prob(Omnibus):                  0.115   Jarque-Bera (JB):                1.604\n",
      "Skew:                          -0.134   Prob(JB):                        0.448\n",
      "Kurtosis:                       1.788   Cond. No.                     2.10e+03\n",
      "==============================================================================\n",
      "\n",
      "Warnings:\n",
      "[1] Standard Errors assume that the covariance matrix of the errors is correctly specified.\n",
      "[2] The condition number is large, 2.1e+03. This might indicate that there are\n",
      "strong multicollinearity or other numerical problems.\n"
     ]
    }
   ],
   "source": [
    "# Regress absolute residual against JobProficiency\n",
    "df['AbsRes'] = np.abs(lm.resid) \n",
    "lm1 = smf.ols('AbsRes~Test1+Test3+Test4', data=df).fit()\n",
    "print('Regress absolute residual against Job Proficiency:') \n",
    "print(lm1.summary())"
   ]
  },
  {
   "cell_type": "markdown",
   "metadata": {},
   "source": [
    "Thus, the estimated Standard Deviation function is \n",
    "\n",
    "$$\\hat{s} = 4.6072 + 0.045x_1 + -0.0682x_3 + 0.0511x_4$$"
   ]
  },
  {
   "cell_type": "markdown",
   "metadata": {},
   "source": [
    "Futhermore, we will obtain the ANOVA table decomposition to help me the decision on if all four predictor variables should be retained. "
   ]
  },
  {
   "cell_type": "code",
   "execution_count": 6,
   "metadata": {},
   "outputs": [
    {
     "name": "stdout",
     "output_type": "stream",
     "text": [
      "            df       sum_sq      mean_sq           F        PR(>F)\n",
      "Test1      1.0  2395.854657  2395.854657  142.619937  1.480226e-10\n",
      "Test2      1.0  1806.965411  1806.965411  107.564661  1.707742e-09\n",
      "Test3      1.0  4254.459243  4254.459243  253.258564  8.044871e-13\n",
      "Test4      1.0   260.743166   260.743166   15.521465  8.099714e-04\n",
      "Residual  20.0   335.977523    16.798876         NaN           NaN\n"
     ]
    }
   ],
   "source": [
    "# perform ordinary least squares using smf.ols INSTEAD of sm.OLS\n",
    "lm = smf.ols('JobProficiency~Test1+Test2+Test3+Test4', data=df).fit()\n",
    "# sm.stats.anova_lm generates the anova table \n",
    "table = sm.stats.anova_lm(lm) \n",
    "print(table)"
   ]
  },
  {
   "cell_type": "markdown",
   "metadata": {},
   "source": [
    "Note that the Error Sum of Squares is the smallest when all four predictor variables ($x_1, x_2, x_3, x_4$) are in the Regression Model;\n",
    "\n",
    "$$SSR(x_1, x_2, x_3, x_4) = 260.7431$$\n",
    "\n",
    "which is noticabily smaller than \n",
    "\n",
    "$SSR(x_1) = 2, 395.8547$\n",
    "\n",
    "$SSR(x_1, x_2) = 1, 806.9654$\n",
    "\n",
    "$SSR(x_1, x_2, x_3) = 4, 254.4592$\n",
    "\n",
    "Thus, it appers that all predictor variables should be retained. "
   ]
  },
  {
   "cell_type": "markdown",
   "metadata": {},
   "source": [
    "## (A2) \n",
    "\n",
    "Using Forward Stepwise Regression, find the best subset of predictor variables to predict Job Proficiency. Use $\\alpha$ limits of 0.05 and 0.10 for adding or deleting a variable, respectively."
   ]
  },
  {
   "cell_type": "code",
   "execution_count": 7,
   "metadata": {},
   "outputs": [
    {
     "name": "stdout",
     "output_type": "stream",
     "text": [
      "Check what X looks like : \n",
      "     Test1  Test2  Test3  Test4    AbsRes\n",
      "0    86.0  110.0  100.0   87.0  6.003588\n",
      "1    62.0   97.0   99.0  100.0  0.254096\n",
      "2   110.0  107.0  103.0  103.0  5.457877\n",
      "3   101.0  117.0   93.0   95.0  5.081899\n",
      "4   100.0  101.0   95.0   88.0  0.122440\n",
      "5    78.0   85.0   95.0   84.0  1.711297\n",
      "6   120.0   77.0   80.0   74.0  0.205670\n",
      "7   105.0  122.0  116.0  102.0  1.099404\n",
      "8   112.0  119.0  106.0  105.0  3.156274\n",
      "9   120.0   89.0  105.0   97.0  5.030545\n",
      "10   87.0   81.0   90.0   88.0  5.240484\n",
      "11  133.0  120.0  113.0  108.0  1.569844\n",
      "12  140.0  121.0   96.0   89.0  0.395012\n",
      "13   84.0  113.0   98.0   78.0  3.033035\n",
      "14  106.0  102.0  109.0  109.0  0.518905\n",
      "15  109.0  129.0  102.0  108.0  6.608311\n",
      "16  104.0   83.0  100.0  102.0  4.908403\n",
      "17  150.0  118.0  107.0  110.0  4.639265\n",
      "18   98.0  125.0  108.0   95.0  1.547434\n",
      "19  120.0   94.0   95.0   90.0  4.838922\n",
      "20   74.0  121.0   91.0   85.0  1.807050\n",
      "21   96.0  114.0  114.0  103.0  3.235956\n",
      "22  104.0   73.0   93.0   80.0  3.790441\n",
      "23   94.0  121.0  115.0  104.0  1.482307\n",
      "24   91.0  129.0   97.0   83.0  5.662545\n",
      "Check what y looks like : \n",
      " 0    88.0\n",
      "1    80.0\n",
      "2    96.0\n",
      "3    76.0\n",
      "4    80.0\n",
      "Name: JobProficiency, dtype: float64\n"
     ]
    }
   ],
   "source": [
    "# y vector: JobProficiency \n",
    "y = df['JobProficiency'] \n",
    "# X matrix that contains the values of the predictor variables \n",
    "X = df.drop(columns = ['JobProficiency'], axis = 1) \n",
    "print('Check what X looks like :', '\\n', X.head(n))\n",
    "print('Check what y looks like :', '\\n', y.head())"
   ]
  },
  {
   "cell_type": "markdown",
   "metadata": {},
   "source": [
    "Now, we will perform the Stepwise Forward Regression on the Job Proficiency Data. The maximum acceptable $\\alpha$ limit for adding a variable is 0.05 and the minimum acceptable limit for removing $\\alpha$ variable is 0.10."
   ]
  },
  {
   "cell_type": "code",
   "execution_count": 8,
   "metadata": {},
   "outputs": [],
   "source": [
    "# This is the code to perform stepwise forward selection \n",
    "def stepwise_selection(X, y,\n",
    "                       initial_list=[],\n",
    "                       threshold_in=0.05,\n",
    "                       threshold_out = 0.10,\n",
    "                       verbose=True):\n",
    "    \"\"\" Perform a forward-backward feature selection\n",
    "    based on p-value from statsmodels.api.OLS\n",
    "    Arguments: \n",
    "        X - pandas.DataFrame with candidate features \n",
    "        y - list-like with the target \n",
    "        initial_list - list of features to start with (column names of X) \n",
    "        threshold_in - include a feature if its p-value < threshold_in \n",
    "        threshold_out - exclude a feature if its p-value > threshold_out \n",
    "        verbose - whether to print the sequence of inclusions and exclusions \n",
    "    Returns: list of selected features Always set threshold_in < threshold_out to avoid infinite looping.\n",
    "    \"\"\" \n",
    "    included = list(initial_list) \n",
    "    while True: \n",
    "        changed = False \n",
    "        # forward step \n",
    "        excluded = list(set(X.columns)-set(included)) \n",
    "        new_pval = pd.Series(index=excluded) \n",
    "        for new_column in excluded:\n",
    "            X1 = sm.add_constant(pd.DataFrame(X[included+[new_column]])) \n",
    "            results = sm.OLS(y, X1).fit() \n",
    "            new_pval[new_column] = results.pvalues[new_column] \n",
    "        best_pval = new_pval.min() \n",
    "        if best_pval < threshold_in:\n",
    "            best_feature = new_pval.argmin() \n",
    "            included.append(best_feature) \n",
    "            changed=True \n",
    "            if verbose: \n",
    "                print('Add {:30} with p-value {:.6}'.format(best_feature,\n",
    "best_pval))\n",
    "                \n",
    "        # backward step \n",
    "        X1 = sm.add_constant(pd.DataFrame(X[included])) \n",
    "        results = sm.OLS(y, X1).fit() \n",
    "        # use all coefs except intercept\n",
    "        pvalues = results.pvalues.iloc[1:]\n",
    "        worst_pval = pvalues.max() # null if pvalues is empty \n",
    "        if worst_pval > threshold_out: \n",
    "            changed=True\n",
    "            worst_feature = pvalues.argmax() \n",
    "            included.remove(worst_feature) \n",
    "            if verbose: \n",
    "                print('Drop {:30} with p-value {:.6}'.format(worst_feature,\n",
    "worst_pval)) \n",
    "        if not changed:\n",
    "            break\n",
    "    return included"
   ]
  },
  {
   "cell_type": "code",
   "execution_count": 9,
   "metadata": {},
   "outputs": [
    {
     "name": "stdout",
     "output_type": "stream",
     "text": [
      "Add Test3                          with p-value 1.26431e-09\n",
      "Add Test1                          with p-value 1.57777e-06\n",
      "Add Test4                          with p-value 0.000735361\n",
      "The selected predictors by stepwise forward selection are:\n",
      "['Test3', 'Test1', 'Test4']\n"
     ]
    },
    {
     "name": "stderr",
     "output_type": "stream",
     "text": [
      "C:\\Users\\12563\\Anaconda3\\lib\\site-packages\\numpy\\core\\fromnumeric.py:2389: FutureWarning: Method .ptp is deprecated and will be removed in a future version. Use numpy.ptp instead.\n",
      "  return ptp(axis=axis, out=out, **kwargs)\n",
      "C:\\Users\\12563\\Anaconda3\\lib\\site-packages\\ipykernel_launcher.py:30: FutureWarning: \n",
      "The current behaviour of 'Series.argmin' is deprecated, use 'idxmin'\n",
      "instead.\n",
      "The behavior of 'argmin' will be corrected to return the positional\n",
      "minimum in the future. For now, use 'series.values.argmin' or\n",
      "'np.argmin(np.array(values))' to get the position of the minimum\n",
      "row.\n"
     ]
    }
   ],
   "source": [
    "predictors = stepwise_selection(X, y) \n",
    "print('The selected predictors by stepwise forward selection are:')\n",
    "print(predictors)"
   ]
  },
  {
   "cell_type": "markdown",
   "metadata": {},
   "source": [
    "Thus, the best subset of predictor variables to predict $y$, job proficiency using $\\alpha$ limits of 0.05 and 0.10 respectively is the following: \n",
    "\n",
    "$$(x_1, x_3, x_4)$$"
   ]
  },
  {
   "cell_type": "code",
   "execution_count": 11,
   "metadata": {},
   "outputs": [
    {
     "name": "stdout",
     "output_type": "stream",
     "text": [
      "                                 OLS Regression Results                                \n",
      "=======================================================================================\n",
      "Dep. Variable:         JobProficiency   R-squared (uncentered):                   0.987\n",
      "Model:                            OLS   Adj. R-squared (uncentered):              0.984\n",
      "Method:                 Least Squares   F-statistic:                              300.6\n",
      "Date:                Tue, 14 Jul 2020   Prob (F-statistic):                    4.24e-18\n",
      "Time:                        14:24:34   Log-Likelihood:                         -94.933\n",
      "No. Observations:                  25   AIC:                                      199.9\n",
      "Df Residuals:                      20   BIC:                                      206.0\n",
      "Df Model:                           5                                                  \n",
      "Covariance Type:            nonrobust                                                  \n",
      "==============================================================================\n",
      "                 coef    std err          t      P>|t|      [0.025      0.975]\n",
      "------------------------------------------------------------------------------\n",
      "Test1          0.1505      0.125      1.206      0.242      -0.110       0.411\n",
      "Test2          0.0404      0.167      0.242      0.811      -0.308       0.389\n",
      "Test3          0.0843      0.397      0.212      0.834      -0.744       0.912\n",
      "Test4          0.7068      0.393      1.798      0.087      -0.113       1.527\n",
      "AbsRes        -0.7292      1.170     -0.623      0.540      -3.170       1.712\n",
      "==============================================================================\n",
      "Omnibus:                        1.231   Durbin-Watson:                   2.134\n",
      "Prob(Omnibus):                  0.540   Jarque-Bera (JB):                0.923\n",
      "Skew:                          -0.159   Prob(JB):                        0.630\n",
      "Kurtosis:                       2.114   Cond. No.                         99.3\n",
      "==============================================================================\n",
      "\n",
      "Warnings:\n",
      "[1] Standard Errors assume that the covariance matrix of the errors is correctly specified.\n"
     ]
    }
   ],
   "source": [
    "results = sm.OLS(y, X).fit() \n",
    "print(results.summary())"
   ]
  },
  {
   "cell_type": "code",
   "execution_count": 12,
   "metadata": {},
   "outputs": [
    {
     "name": "stdout",
     "output_type": "stream",
     "text": [
      "R2 =  0.9868697666466971\n",
      "\n"
     ]
    }
   ],
   "source": [
    "# Find R^2 \n",
    "print('R2 = ', results.rsquared) \n",
    "print()"
   ]
  },
  {
   "cell_type": "markdown",
   "metadata": {},
   "source": [
    "## (A3)\n",
    "\n",
    "To assess internally the predictive ability of the Regression Model identified in (A2) compute the PRESS statistic and compare it to SSE. \n",
    "\n",
    "What does this comparison suggest about the validity of MSE as an indicator of the predicitive ability of the fitted model?"
   ]
  },
  {
   "cell_type": "markdown",
   "metadata": {},
   "source": [
    "The PRESS prediction error for the ith case is :\n",
    "\n",
    "$$y_i - \\hat{y}_{i(i)}$$\n",
    "\n",
    "and the PRESS_p criterion is the sum of the squares prediction errors over all $n$ cases:\n",
    "\n",
    "$$PRESS_P = \\sum (y_i - \\hat{y}_{i(i)}) ^2$$\n",
    "\n",
    "Also, note that \n",
    "\n",
    "$$SSE = \\sum (y_i - \\hat{y}_i)$$"
   ]
  },
  {
   "cell_type": "code",
   "execution_count": 13,
   "metadata": {},
   "outputs": [
    {
     "name": "stdout",
     "output_type": "stream",
     "text": [
      "X.T times X =  \n",
      " [[276970.         276626.         261247.         246352.\n",
      "    8070.70018978]\n",
      " [276626.         291906.         270842.         254364.\n",
      "    8280.7131696 ]\n",
      " [261247.         270842.         255898.         240368.\n",
      "    7775.70257419]\n",
      " [246352.         254364.         240368.         226843.\n",
      "    7374.38886262]\n",
      " [  8070.70018978   8280.7131696    7775.70257419   7374.38886262\n",
      "     348.19700766]]\n",
      "\n"
     ]
    }
   ],
   "source": [
    "# Construct X^TX:\n",
    "X_t_X = np.dot(X.T, X) \n",
    "print('X.T times X = ', '\\n', X_t_X) \n",
    "print()"
   ]
  },
  {
   "cell_type": "code",
   "execution_count": 14,
   "metadata": {},
   "outputs": [
    {
     "name": "stdout",
     "output_type": "stream",
     "text": [
      "X.T times y =  \n",
      " [243112.         249996.         236047.         222564.\n",
      "   7162.76919187]\n",
      "\n"
     ]
    }
   ],
   "source": [
    "# Construct X^Ty: \n",
    "X_t_y = np.dot(X.T, y)\n",
    "print('X.T times y = ', '\\n', X_t_y)\n",
    "print()"
   ]
  },
  {
   "cell_type": "code",
   "execution_count": 15,
   "metadata": {},
   "outputs": [
    {
     "name": "stdout",
     "output_type": "stream",
     "text": [
      "b =  \n",
      " [ 0.15048568  0.04039749  0.08427876  0.7068133  -0.72923747]\n",
      "\n"
     ]
    }
   ],
   "source": [
    "# Compute b: \n",
    "b = np.dot(np.linalg.inv(X_t_X), X_t_y)\n",
    "print('b = ', '\\n', b) \n",
    "print()"
   ]
  },
  {
   "cell_type": "code",
   "execution_count": 16,
   "metadata": {},
   "outputs": [
    {
     "name": "stdout",
     "output_type": "stream",
     "text": [
      "y_hat =  \n",
      " [ 82.92808392  92.08829906  98.37834948  91.20483682  89.24547859\n",
      "  81.30252699  80.06539061 101.79905574 102.50896876  95.39535571\n",
      "  82.32755191 109.576841    96.66517823  78.38466606 105.92265497\n",
      " 101.7274569   95.94694351 110.72391982  94.91820521  89.94660146\n",
      "  82.45476535  99.10170661  80.21838459 101.15343631  81.61667626]\n",
      "\n",
      "e =  \n",
      " 0      5.071916\n",
      "1    -12.088299\n",
      "2     -2.378349\n",
      "3    -15.204837\n",
      "4     -9.245479\n",
      "5     -8.302527\n",
      "6    -22.065391\n",
      "7     14.200944\n",
      "8      1.491031\n",
      "9      3.604644\n",
      "10   -18.327552\n",
      "11    16.423159\n",
      "12    -2.665178\n",
      "13    -7.384666\n",
      "14     5.077345\n",
      "15     7.272543\n",
      "16     4.053056\n",
      "17    16.276080\n",
      "18     4.081795\n",
      "19    -7.946601\n",
      "20   -15.454765\n",
      "21     9.898293\n",
      "22    -2.218385\n",
      "23    13.846564\n",
      "24     1.383324\n",
      "Name: JobProficiency, dtype: float64\n",
      "\n"
     ]
    }
   ],
   "source": [
    "# Fitted values: \n",
    "y_hat = np.dot(X, b) \n",
    "print('y_hat = ', '\\n', y_hat) \n",
    "print()\n",
    "# Residual:\n",
    "e = y-y_hat\n",
    "print('e = ', '\\n', e) \n",
    "print()"
   ]
  },
  {
   "cell_type": "code",
   "execution_count": 17,
   "metadata": {},
   "outputs": [
    {
     "name": "stdout",
     "output_type": "stream",
     "text": [
      "y^Ty =  221575.0\n",
      "\n",
      "1/ny^TJy =  212521.0\n",
      "\n"
     ]
    }
   ],
   "source": [
    "# Compute y^Ty \n",
    "y_t_y = np.dot(y, y)\n",
    "print('y^Ty = ', y_t_y) \n",
    "print()\n",
    "\n",
    "# Compute (1/n)y^TJy\n",
    "J = np.ones((n,n)) \n",
    "y_t_j_y = (1/n)*np.dot(y, np.dot(J, y)) \n",
    "print('1/ny^TJy = ', y_t_j_y)\n",
    "print()"
   ]
  },
  {
   "cell_type": "code",
   "execution_count": 18,
   "metadata": {},
   "outputs": [
    {
     "name": "stdout",
     "output_type": "stream",
     "text": [
      "y^Ty =  221575.0\n",
      "\n",
      "SSE =  2909.331455256208\n",
      "\n",
      "SSTO =  9054.0\n",
      "\n",
      "SSR =  6144.668544743792\n",
      "\n"
     ]
    }
   ],
   "source": [
    "# Compute y^Ty \n",
    "y_t_y = np.dot(y, y) \n",
    "print('y^Ty = ', y_t_y) \n",
    "print()\n",
    "\n",
    "\n",
    "\n",
    "# SSE \n",
    "SSE = y_t_y - np.dot(b, X_t_y) \n",
    "print('SSE = ', SSE) \n",
    "print()\n",
    "\n",
    "# SSTO \n",
    "SSTO = y_t_y - y_t_j_y \n",
    "print('SSTO = ', SSTO) \n",
    "print()\n",
    "\n",
    "# SSR \n",
    "SSR = SSTO - SSE \n",
    "print('SSR = ', SSR) \n",
    "print()"
   ]
  },
  {
   "cell_type": "markdown",
   "metadata": {},
   "source": [
    "Thus, \n",
    "\n",
    "$$SSE = 2, 965.8118$$"
   ]
  },
  {
   "cell_type": "markdown",
   "metadata": {},
   "source": [
    "Now, we will obtain $MSE$."
   ]
  },
  {
   "cell_type": "code",
   "execution_count": 19,
   "metadata": {},
   "outputs": [
    {
     "name": "stdout",
     "output_type": "stream",
     "text": [
      "25\n"
     ]
    }
   ],
   "source": [
    "print(n)"
   ]
  },
  {
   "cell_type": "code",
   "execution_count": 20,
   "metadata": {},
   "outputs": [
    {
     "name": "stdout",
     "output_type": "stream",
     "text": [
      "MSE = 138.53959310743846\n"
     ]
    }
   ],
   "source": [
    "MSE = SSE / 21\n",
    "print('MSE =', MSE)"
   ]
  },
  {
   "cell_type": "code",
   "execution_count": 22,
   "metadata": {},
   "outputs": [
    {
     "name": "stdout",
     "output_type": "stream",
     "text": [
      "0     6.470945\n",
      "1     0.132517\n",
      "2    -5.841694\n",
      "3    -7.451249\n",
      "4     0.124475\n",
      "5     2.979700\n",
      "6     0.361166\n",
      "7    -1.365112\n",
      "8    -3.859519\n",
      "9    -4.808616\n",
      "10   -5.536303\n",
      "11    1.879782\n",
      "12   -0.720008\n",
      "13   -4.584906\n",
      "14    0.111044\n",
      "15    7.662001\n",
      "16    7.524138\n",
      "17    6.237989\n",
      "18   -2.375423\n",
      "19   -5.035669\n",
      "20    0.862844\n",
      "21   -3.521341\n",
      "22    6.897026\n",
      "23    1.810849\n",
      "24    5.795147\n",
      "dtype: float64\n"
     ]
    }
   ],
   "source": [
    "t = OLSInfluence(lm).resid_press\n",
    "print(t)"
   ]
  },
  {
   "cell_type": "code",
   "execution_count": 31,
   "metadata": {},
   "outputs": [
    {
     "name": "stdout",
     "output_type": "stream",
     "text": [
      "5295752.55538795\n"
     ]
    }
   ],
   "source": [
    "press_statistic = np.sum(y-t)\n",
    "press_statistic_2 = np.square(press_statistic)\n",
    "\n",
    "print(press_statistic_2)"
   ]
  },
  {
   "cell_type": "markdown",
   "metadata": {},
   "source": [
    "Thus, the PRESS Statistic $PRESS_p = 5,295,752.55$. \n",
    "\n",
    "Recall that $SSE = 2, 965.8118$.\n",
    "\n",
    "Comparing the two we can see that the Press Statistic is much larger than $SSE$. \n",
    "\n",
    "Models with small $PRESS_p$ values are considered good candidate models. Also, having a large SSE is not favorable. Thus, this model may need to be reconsidered. "
   ]
  },
  {
   "cell_type": "markdown",
   "metadata": {},
   "source": [
    "## (B1)\n",
    "\n",
    "To assess externally the validity of the Regression Model identified in Part (A2) 25 additional applicants for entry-level clerical positions in the agency were similarly tested and hired irrespective of their test scores. the data is stored in JobProficiency_validation.txt. \n",
    "\n",
    "We will fit the Regression Model identified in (A2) to the vaildation data set. \n",
    "\n",
    "We will then compare the estimared Regression Coefficients and their estimated standard deviations to those obtained in (A2). \n",
    "\n",
    "Also, compare the MSE and coefficients of multiple determination. \n",
    "\n",
    "Do the estimates for the validation data set appear to be reasonibly similar to those obtained for the model-building data set? "
   ]
  },
  {
   "cell_type": "code",
   "execution_count": 102,
   "metadata": {},
   "outputs": [
    {
     "data": {
      "text/html": [
       "<div>\n",
       "<style scoped>\n",
       "    .dataframe tbody tr th:only-of-type {\n",
       "        vertical-align: middle;\n",
       "    }\n",
       "\n",
       "    .dataframe tbody tr th {\n",
       "        vertical-align: top;\n",
       "    }\n",
       "\n",
       "    .dataframe thead th {\n",
       "        text-align: right;\n",
       "    }\n",
       "</style>\n",
       "<table border=\"1\" class=\"dataframe\">\n",
       "  <thead>\n",
       "    <tr style=\"text-align: right;\">\n",
       "      <th></th>\n",
       "      <th>JobProficiency</th>\n",
       "      <th>Test1</th>\n",
       "      <th>Test2</th>\n",
       "      <th>Test3</th>\n",
       "      <th>Test4</th>\n",
       "    </tr>\n",
       "  </thead>\n",
       "  <tbody>\n",
       "    <tr>\n",
       "      <td>0</td>\n",
       "      <td>58.0</td>\n",
       "      <td>65.0</td>\n",
       "      <td>109.0</td>\n",
       "      <td>88.0</td>\n",
       "      <td>84.0</td>\n",
       "    </tr>\n",
       "    <tr>\n",
       "      <td>1</td>\n",
       "      <td>92.0</td>\n",
       "      <td>85.0</td>\n",
       "      <td>90.0</td>\n",
       "      <td>104.0</td>\n",
       "      <td>98.0</td>\n",
       "    </tr>\n",
       "    <tr>\n",
       "      <td>2</td>\n",
       "      <td>71.0</td>\n",
       "      <td>93.0</td>\n",
       "      <td>73.0</td>\n",
       "      <td>91.0</td>\n",
       "      <td>82.0</td>\n",
       "    </tr>\n",
       "    <tr>\n",
       "      <td>3</td>\n",
       "      <td>77.0</td>\n",
       "      <td>95.0</td>\n",
       "      <td>57.0</td>\n",
       "      <td>95.0</td>\n",
       "      <td>85.0</td>\n",
       "    </tr>\n",
       "    <tr>\n",
       "      <td>4</td>\n",
       "      <td>92.0</td>\n",
       "      <td>102.0</td>\n",
       "      <td>139.0</td>\n",
       "      <td>101.0</td>\n",
       "      <td>92.0</td>\n",
       "    </tr>\n",
       "    <tr>\n",
       "      <td>5</td>\n",
       "      <td>66.0</td>\n",
       "      <td>63.0</td>\n",
       "      <td>101.0</td>\n",
       "      <td>93.0</td>\n",
       "      <td>84.0</td>\n",
       "    </tr>\n",
       "    <tr>\n",
       "      <td>6</td>\n",
       "      <td>61.0</td>\n",
       "      <td>81.0</td>\n",
       "      <td>129.0</td>\n",
       "      <td>88.0</td>\n",
       "      <td>76.0</td>\n",
       "    </tr>\n",
       "    <tr>\n",
       "      <td>7</td>\n",
       "      <td>57.0</td>\n",
       "      <td>111.0</td>\n",
       "      <td>102.0</td>\n",
       "      <td>83.0</td>\n",
       "      <td>72.0</td>\n",
       "    </tr>\n",
       "    <tr>\n",
       "      <td>8</td>\n",
       "      <td>66.0</td>\n",
       "      <td>67.0</td>\n",
       "      <td>98.0</td>\n",
       "      <td>98.0</td>\n",
       "      <td>84.0</td>\n",
       "    </tr>\n",
       "    <tr>\n",
       "      <td>9</td>\n",
       "      <td>75.0</td>\n",
       "      <td>91.0</td>\n",
       "      <td>111.0</td>\n",
       "      <td>96.0</td>\n",
       "      <td>84.0</td>\n",
       "    </tr>\n",
       "    <tr>\n",
       "      <td>10</td>\n",
       "      <td>98.0</td>\n",
       "      <td>128.0</td>\n",
       "      <td>99.0</td>\n",
       "      <td>98.0</td>\n",
       "      <td>89.0</td>\n",
       "    </tr>\n",
       "    <tr>\n",
       "      <td>11</td>\n",
       "      <td>100.0</td>\n",
       "      <td>116.0</td>\n",
       "      <td>103.0</td>\n",
       "      <td>103.0</td>\n",
       "      <td>103.0</td>\n",
       "    </tr>\n",
       "    <tr>\n",
       "      <td>12</td>\n",
       "      <td>67.0</td>\n",
       "      <td>105.0</td>\n",
       "      <td>102.0</td>\n",
       "      <td>88.0</td>\n",
       "      <td>83.0</td>\n",
       "    </tr>\n",
       "    <tr>\n",
       "      <td>13</td>\n",
       "      <td>111.0</td>\n",
       "      <td>99.0</td>\n",
       "      <td>132.0</td>\n",
       "      <td>109.0</td>\n",
       "      <td>105.0</td>\n",
       "    </tr>\n",
       "    <tr>\n",
       "      <td>14</td>\n",
       "      <td>97.0</td>\n",
       "      <td>93.0</td>\n",
       "      <td>95.0</td>\n",
       "      <td>106.0</td>\n",
       "      <td>98.0</td>\n",
       "    </tr>\n",
       "    <tr>\n",
       "      <td>15</td>\n",
       "      <td>99.0</td>\n",
       "      <td>99.0</td>\n",
       "      <td>113.0</td>\n",
       "      <td>104.0</td>\n",
       "      <td>95.0</td>\n",
       "    </tr>\n",
       "    <tr>\n",
       "      <td>16</td>\n",
       "      <td>74.0</td>\n",
       "      <td>110.0</td>\n",
       "      <td>114.0</td>\n",
       "      <td>91.0</td>\n",
       "      <td>78.0</td>\n",
       "    </tr>\n",
       "    <tr>\n",
       "      <td>17</td>\n",
       "      <td>117.0</td>\n",
       "      <td>128.0</td>\n",
       "      <td>134.0</td>\n",
       "      <td>108.0</td>\n",
       "      <td>98.0</td>\n",
       "    </tr>\n",
       "    <tr>\n",
       "      <td>18</td>\n",
       "      <td>92.0</td>\n",
       "      <td>99.0</td>\n",
       "      <td>110.0</td>\n",
       "      <td>96.0</td>\n",
       "      <td>97.0</td>\n",
       "    </tr>\n",
       "    <tr>\n",
       "      <td>19</td>\n",
       "      <td>95.0</td>\n",
       "      <td>111.0</td>\n",
       "      <td>113.0</td>\n",
       "      <td>101.0</td>\n",
       "      <td>91.0</td>\n",
       "    </tr>\n",
       "    <tr>\n",
       "      <td>20</td>\n",
       "      <td>104.0</td>\n",
       "      <td>109.0</td>\n",
       "      <td>120.0</td>\n",
       "      <td>104.0</td>\n",
       "      <td>106.0</td>\n",
       "    </tr>\n",
       "    <tr>\n",
       "      <td>21</td>\n",
       "      <td>100.0</td>\n",
       "      <td>78.0</td>\n",
       "      <td>125.0</td>\n",
       "      <td>115.0</td>\n",
       "      <td>102.0</td>\n",
       "    </tr>\n",
       "    <tr>\n",
       "      <td>22</td>\n",
       "      <td>95.0</td>\n",
       "      <td>115.0</td>\n",
       "      <td>119.0</td>\n",
       "      <td>102.0</td>\n",
       "      <td>94.0</td>\n",
       "    </tr>\n",
       "    <tr>\n",
       "      <td>23</td>\n",
       "      <td>81.0</td>\n",
       "      <td>129.0</td>\n",
       "      <td>70.0</td>\n",
       "      <td>94.0</td>\n",
       "      <td>95.0</td>\n",
       "    </tr>\n",
       "    <tr>\n",
       "      <td>24</td>\n",
       "      <td>109.0</td>\n",
       "      <td>136.0</td>\n",
       "      <td>104.0</td>\n",
       "      <td>106.0</td>\n",
       "      <td>104.0</td>\n",
       "    </tr>\n",
       "  </tbody>\n",
       "</table>\n",
       "</div>"
      ],
      "text/plain": [
       "    JobProficiency  Test1  Test2  Test3  Test4\n",
       "0             58.0   65.0  109.0   88.0   84.0\n",
       "1             92.0   85.0   90.0  104.0   98.0\n",
       "2             71.0   93.0   73.0   91.0   82.0\n",
       "3             77.0   95.0   57.0   95.0   85.0\n",
       "4             92.0  102.0  139.0  101.0   92.0\n",
       "5             66.0   63.0  101.0   93.0   84.0\n",
       "6             61.0   81.0  129.0   88.0   76.0\n",
       "7             57.0  111.0  102.0   83.0   72.0\n",
       "8             66.0   67.0   98.0   98.0   84.0\n",
       "9             75.0   91.0  111.0   96.0   84.0\n",
       "10            98.0  128.0   99.0   98.0   89.0\n",
       "11           100.0  116.0  103.0  103.0  103.0\n",
       "12            67.0  105.0  102.0   88.0   83.0\n",
       "13           111.0   99.0  132.0  109.0  105.0\n",
       "14            97.0   93.0   95.0  106.0   98.0\n",
       "15            99.0   99.0  113.0  104.0   95.0\n",
       "16            74.0  110.0  114.0   91.0   78.0\n",
       "17           117.0  128.0  134.0  108.0   98.0\n",
       "18            92.0   99.0  110.0   96.0   97.0\n",
       "19            95.0  111.0  113.0  101.0   91.0\n",
       "20           104.0  109.0  120.0  104.0  106.0\n",
       "21           100.0   78.0  125.0  115.0  102.0\n",
       "22            95.0  115.0  119.0  102.0   94.0\n",
       "23            81.0  129.0   70.0   94.0   95.0\n",
       "24           109.0  136.0  104.0  106.0  104.0"
      ]
     },
     "execution_count": 102,
     "metadata": {},
     "output_type": "execute_result"
    }
   ],
   "source": [
    "#Show the data \n",
    "df_v = pd.read_csv('JobProficiency_validation.txt', delim_whitespace=True, \n",
    "                 names = ['JobProficiency', 'Test1', 'Test2', 'Test3', 'Test4']) \n",
    "n = df_v.shape[0] \n",
    "df_v.head(n)"
   ]
  },
  {
   "cell_type": "markdown",
   "metadata": {},
   "source": [
    "Now, We will fit the Regression Model identified in (A2) to the vaildation data set."
   ]
  },
  {
   "cell_type": "code",
   "execution_count": 103,
   "metadata": {},
   "outputs": [
    {
     "name": "stdout",
     "output_type": "stream",
     "text": [
      "                            OLS Regression Results                            \n",
      "==============================================================================\n",
      "Dep. Variable:         JobProficiency   R-squared:                       0.949\n",
      "Model:                            OLS   Adj. R-squared:                  0.942\n",
      "Method:                 Least Squares   F-statistic:                     130.0\n",
      "Date:                Fri, 03 Jul 2020   Prob (F-statistic):           1.02e-13\n",
      "Time:                        13:10:52   Log-Likelihood:                -69.668\n",
      "No. Observations:                  25   AIC:                             147.3\n",
      "Df Residuals:                      21   BIC:                             152.2\n",
      "Df Model:                           3                                         \n",
      "Covariance Type:            nonrobust                                         \n",
      "==============================================================================\n",
      "                 coef    std err          t      P>|t|      [0.025      0.975]\n",
      "------------------------------------------------------------------------------\n",
      "Intercept   -122.7671     11.848    -10.362      0.000    -147.406     -98.128\n",
      "Test1          0.3124      0.047      6.605      0.000       0.214       0.411\n",
      "Test3          1.4068      0.233      6.048      0.000       0.923       1.891\n",
      "Test4          0.4284      0.197      2.169      0.042       0.018       0.839\n",
      "==============================================================================\n",
      "Omnibus:                        1.376   Durbin-Watson:                   1.251\n",
      "Prob(Omnibus):                  0.503   Jarque-Bera (JB):                0.842\n",
      "Skew:                          -0.449   Prob(JB):                        0.657\n",
      "Kurtosis:                       2.944   Cond. No.                     2.33e+03\n",
      "==============================================================================\n",
      "\n",
      "Warnings:\n",
      "[1] Standard Errors assume that the covariance matrix of the errors is correctly specified.\n",
      "[2] The condition number is large, 2.33e+03. This might indicate that there are\n",
      "strong multicollinearity or other numerical problems.\n"
     ]
    }
   ],
   "source": [
    "lm = smf.ols('JobProficiency~Test1+Test3+Test4', data=df_v).fit()\n",
    "print(lm.summary())"
   ]
  },
  {
   "cell_type": "markdown",
   "metadata": {},
   "source": [
    "Thus, the fitted Regression function is \n",
    "\n",
    "$$\\hat{y} = -122.7671 +  0.3124x_1 + 1.4068x_3 + 0.4284x_4$$\n",
    "\n",
    "For (A2):  the fitted Regression function is \n",
    "\n",
    "$$\\hat{y} = -124.200 +  0.29634x_1 + 1.3570x_3 + 0.51744x_4$$"
   ]
  },
  {
   "cell_type": "code",
   "execution_count": 104,
   "metadata": {},
   "outputs": [
    {
     "name": "stdout",
     "output_type": "stream",
     "text": [
      "Regress absolute residual against Job Proficiency:\n",
      "                            OLS Regression Results                            \n",
      "==============================================================================\n",
      "Dep. Variable:                 AbsRes   R-squared:                       0.117\n",
      "Model:                            OLS   Adj. R-squared:                 -0.009\n",
      "Method:                 Least Squares   F-statistic:                    0.9254\n",
      "Date:                Fri, 03 Jul 2020   Prob (F-statistic):              0.446\n",
      "Time:                        13:10:53   Log-Likelihood:                -56.310\n",
      "No. Observations:                  25   AIC:                             120.6\n",
      "Df Residuals:                      21   BIC:                             125.5\n",
      "Df Model:                           3                                         \n",
      "Covariance Type:            nonrobust                                         \n",
      "==============================================================================\n",
      "                 coef    std err          t      P>|t|      [0.025      0.975]\n",
      "------------------------------------------------------------------------------\n",
      "Intercept     -5.1862      6.944     -0.747      0.463     -19.626       9.254\n",
      "Test1          0.0235      0.028      0.847      0.407      -0.034       0.081\n",
      "Test3          0.0109      0.136      0.080      0.937      -0.273       0.294\n",
      "Test4          0.0530      0.116      0.458      0.652      -0.188       0.294\n",
      "==============================================================================\n",
      "Omnibus:                        3.385   Durbin-Watson:                   2.340\n",
      "Prob(Omnibus):                  0.184   Jarque-Bera (JB):                2.565\n",
      "Skew:                           0.783   Prob(JB):                        0.277\n",
      "Kurtosis:                       2.892   Cond. No.                     2.33e+03\n",
      "==============================================================================\n",
      "\n",
      "Warnings:\n",
      "[1] Standard Errors assume that the covariance matrix of the errors is correctly specified.\n",
      "[2] The condition number is large, 2.33e+03. This might indicate that there are\n",
      "strong multicollinearity or other numerical problems.\n"
     ]
    }
   ],
   "source": [
    "# Regress absolute residual against JobProficiency\n",
    "df_v['AbsRes'] = np.abs(lm.resid) \n",
    "lm1 = smf.ols('AbsRes~Test1+Test3+Test4', data=df_v).fit()\n",
    "print('Regress absolute residual against Job Proficiency:') \n",
    "print(lm1.summary())"
   ]
  },
  {
   "cell_type": "markdown",
   "metadata": {},
   "source": [
    "Thus, the estimated Standard Deviation function is \n",
    "\n",
    "$$\\hat{s} = -5.1862 + 0.0235x_1 + 0.0109x_3 + 0.0530x_4$$\n",
    "\n",
    "(A2) estimated Standard Deviation function is \n",
    "\n",
    "$$\\hat{s} = 4.6072 + 0.045x_1 + -0.0682x_3 + 0.0511x_4$$\n",
    "\n",
    "The estimated Regression Coeffiencets are very similar in both cases.\n",
    "\n",
    "However, the estimated Standard Deviations of the estimated Regression Coeffiecients differ pretty greatly in the cases with the intercept  and the $x_3$ term. "
   ]
  },
  {
   "cell_type": "markdown",
   "metadata": {},
   "source": [
    "Now, we will obtain MSE:"
   ]
  },
  {
   "cell_type": "code",
   "execution_count": 105,
   "metadata": {},
   "outputs": [
    {
     "name": "stdout",
     "output_type": "stream",
     "text": [
      "MSE = 132.24233887528217\n"
     ]
    }
   ],
   "source": [
    "MSE = SSE / 22\n",
    "\n",
    "print('MSE =', MSE)"
   ]
  },
  {
   "cell_type": "markdown",
   "metadata": {},
   "source": [
    "Comparing the two $MSE$ values we see that they are the same. \n",
    "\n",
    "Now, we will obtain the coefficient of Multiple Determination for the Validation Data. "
   ]
  },
  {
   "cell_type": "code",
   "execution_count": 106,
   "metadata": {},
   "outputs": [
    {
     "name": "stdout",
     "output_type": "stream",
     "text": [
      "                                 OLS Regression Results                                \n",
      "=======================================================================================\n",
      "Dep. Variable:         JobProficiency   R-squared (uncentered):                   0.987\n",
      "Model:                            OLS   Adj. R-squared (uncentered):              0.984\n",
      "Method:                 Least Squares   F-statistic:                              300.6\n",
      "Date:                Fri, 03 Jul 2020   Prob (F-statistic):                    4.24e-18\n",
      "Time:                        13:10:54   Log-Likelihood:                         -94.933\n",
      "No. Observations:                  25   AIC:                                      199.9\n",
      "Df Residuals:                      20   BIC:                                      206.0\n",
      "Df Model:                           5                                                  \n",
      "Covariance Type:            nonrobust                                                  \n",
      "==============================================================================\n",
      "                 coef    std err          t      P>|t|      [0.025      0.975]\n",
      "------------------------------------------------------------------------------\n",
      "Test1          0.1505      0.125      1.206      0.242      -0.110       0.411\n",
      "Test2          0.0404      0.167      0.242      0.811      -0.308       0.389\n",
      "Test3          0.0843      0.397      0.212      0.834      -0.744       0.912\n",
      "Test4          0.7068      0.393      1.798      0.087      -0.113       1.527\n",
      "AbsRes        -0.7292      1.170     -0.623      0.540      -3.170       1.712\n",
      "==============================================================================\n",
      "Omnibus:                        1.231   Durbin-Watson:                   2.134\n",
      "Prob(Omnibus):                  0.540   Jarque-Bera (JB):                0.923\n",
      "Skew:                          -0.159   Prob(JB):                        0.630\n",
      "Kurtosis:                       2.114   Cond. No.                         99.3\n",
      "==============================================================================\n",
      "\n",
      "Warnings:\n",
      "[1] Standard Errors assume that the covariance matrix of the errors is correctly specified.\n"
     ]
    }
   ],
   "source": [
    "results = sm.OLS(y, X).fit()\n",
    "print(results.summary())"
   ]
  },
  {
   "cell_type": "code",
   "execution_count": 107,
   "metadata": {},
   "outputs": [
    {
     "name": "stdout",
     "output_type": "stream",
     "text": [
      "R2 =  0.9868697666466971\n",
      "\n"
     ]
    }
   ],
   "source": [
    "# Find R^2 \n",
    "print('R2 = ', results.rsquared) \n",
    "print()"
   ]
  },
  {
   "cell_type": "markdown",
   "metadata": {},
   "source": [
    "Thus, for the Validation Data the coefficient of Multiple Determination is \n",
    "\n",
    "$$R^2 = 0.9866$$\n",
    "\n",
    "For the JobProficiency Data set the coefficient of Multiple Determination is \n",
    "\n",
    "$$R^2 = 0.9866$$\n",
    "\n",
    "Hence, they are the same in both cases. \n",
    "\n",
    "The estimates for the validation data set appear to be reasonably similar to those obtained from the model building data set most of the Regression values we compared between the two sets were the same or very close in value. "
   ]
  },
  {
   "cell_type": "markdown",
   "metadata": {},
   "source": [
    "## (B2)\n",
    "\n",
    " Use the model obtained from (A2) to calculate the mean squared prediction error (MSRP) for the validation data and compare it to MSE obtained from the model-building data set. \n",
    "\n",
    "Is there evidence of a substantial bias problem in MSE here?"
   ]
  },
  {
   "cell_type": "markdown",
   "metadata": {},
   "source": [
    "First, we will calculate the mean squared prediction error (MSRP) for the validation data."
   ]
  },
  {
   "cell_type": "code",
   "execution_count": 108,
   "metadata": {},
   "outputs": [],
   "source": [
    "# First read in the validation data\n",
    "df_val = pd.read_csv('JobProficiency_validation.txt', delim_whitespace=True, \n",
    "                     names = ['JobProficiency', 'Test1', 'Test2', 'Test3', 'Test4'])"
   ]
  },
  {
   "cell_type": "code",
   "execution_count": 109,
   "metadata": {},
   "outputs": [
    {
     "name": "stdout",
     "output_type": "stream",
     "text": [
      "For the Validation Data, MSPR =  13.958075258367568\n",
      "MSE =  16.798876132731827\n"
     ]
    }
   ],
   "source": [
    "lm = smf.ols('JobProficiency~Test1+Test2+Test3+Test4', data=df).fit() \n",
    "# Predict for validation data \n",
    "y_val = lm.predict(df_val) \n",
    "# MSPR\n",
    "MSPR = np.sum((df_val['JobProficiency'].to_numpy()-y_val)**2)/df_val.shape[0]\n",
    "print('For the Validation Data, MSPR = ', MSPR) \n",
    "# What about the MSE for the model based on the training data? \n",
    "MSE = lm.mse_resid \n",
    "print('MSE = ', MSE)"
   ]
  },
  {
   "cell_type": "markdown",
   "metadata": {},
   "source": [
    "Thus, the MSRP for the validation data set is \n",
    "\n",
    "$$MSRP = 13.4065$$\n",
    "\n",
    "Recall the MSE obtained from the model-building data set which is the following: \n",
    "\n",
    "$$MSE = 134.8096$$\n",
    "\n",
    "Comparing the MSRP for the Validation Data set and the MSE for the model-building data set we see that the MSE is much larger than MSRP.\n",
    "\n",
    "I believe that there is evidence of a substantial bias problem in MSE here as the closer to 0 MSE is the better & MSE is very large in thise case as well as MSE being much larger than the Mean Squared Prediction Error (MSRP)."
   ]
  },
  {
   "cell_type": "markdown",
   "metadata": {},
   "source": [
    "## (C1)\n",
    "\n",
    "For this question & the following ones, consider that a subset model containing only first-order terms in $x_1$ and $x_3$ is to be evaluated in detail, and the training data are used. Obtain the studentized deleted residuals and identify any outlying $y$ observations. \n",
    "\n",
    "Use $\\alpha = 0.05$."
   ]
  },
  {
   "cell_type": "code",
   "execution_count": 110,
   "metadata": {},
   "outputs": [
    {
     "data": {
      "text/html": [
       "<div>\n",
       "<style scoped>\n",
       "    .dataframe tbody tr th:only-of-type {\n",
       "        vertical-align: middle;\n",
       "    }\n",
       "\n",
       "    .dataframe tbody tr th {\n",
       "        vertical-align: top;\n",
       "    }\n",
       "\n",
       "    .dataframe thead th {\n",
       "        text-align: right;\n",
       "    }\n",
       "</style>\n",
       "<table border=\"1\" class=\"dataframe\">\n",
       "  <thead>\n",
       "    <tr style=\"text-align: right;\">\n",
       "      <th></th>\n",
       "      <th></th>\n",
       "      <th>JobProficiency</th>\n",
       "      <th>Test1</th>\n",
       "      <th>Test3</th>\n",
       "    </tr>\n",
       "  </thead>\n",
       "  <tbody>\n",
       "    <tr>\n",
       "      <td>88.0</td>\n",
       "      <td>86.0</td>\n",
       "      <td>110.0</td>\n",
       "      <td>100.0</td>\n",
       "      <td>87.0</td>\n",
       "    </tr>\n",
       "    <tr>\n",
       "      <td>80.0</td>\n",
       "      <td>62.0</td>\n",
       "      <td>97.0</td>\n",
       "      <td>99.0</td>\n",
       "      <td>100.0</td>\n",
       "    </tr>\n",
       "    <tr>\n",
       "      <td>96.0</td>\n",
       "      <td>110.0</td>\n",
       "      <td>107.0</td>\n",
       "      <td>103.0</td>\n",
       "      <td>103.0</td>\n",
       "    </tr>\n",
       "    <tr>\n",
       "      <td>76.0</td>\n",
       "      <td>101.0</td>\n",
       "      <td>117.0</td>\n",
       "      <td>93.0</td>\n",
       "      <td>95.0</td>\n",
       "    </tr>\n",
       "    <tr>\n",
       "      <td>80.0</td>\n",
       "      <td>100.0</td>\n",
       "      <td>101.0</td>\n",
       "      <td>95.0</td>\n",
       "      <td>88.0</td>\n",
       "    </tr>\n",
       "    <tr>\n",
       "      <td>73.0</td>\n",
       "      <td>78.0</td>\n",
       "      <td>85.0</td>\n",
       "      <td>95.0</td>\n",
       "      <td>84.0</td>\n",
       "    </tr>\n",
       "    <tr>\n",
       "      <td>58.0</td>\n",
       "      <td>120.0</td>\n",
       "      <td>77.0</td>\n",
       "      <td>80.0</td>\n",
       "      <td>74.0</td>\n",
       "    </tr>\n",
       "    <tr>\n",
       "      <td>116.0</td>\n",
       "      <td>105.0</td>\n",
       "      <td>122.0</td>\n",
       "      <td>116.0</td>\n",
       "      <td>102.0</td>\n",
       "    </tr>\n",
       "    <tr>\n",
       "      <td>104.0</td>\n",
       "      <td>112.0</td>\n",
       "      <td>119.0</td>\n",
       "      <td>106.0</td>\n",
       "      <td>105.0</td>\n",
       "    </tr>\n",
       "    <tr>\n",
       "      <td>99.0</td>\n",
       "      <td>120.0</td>\n",
       "      <td>89.0</td>\n",
       "      <td>105.0</td>\n",
       "      <td>97.0</td>\n",
       "    </tr>\n",
       "    <tr>\n",
       "      <td>64.0</td>\n",
       "      <td>87.0</td>\n",
       "      <td>81.0</td>\n",
       "      <td>90.0</td>\n",
       "      <td>88.0</td>\n",
       "    </tr>\n",
       "    <tr>\n",
       "      <td>126.0</td>\n",
       "      <td>133.0</td>\n",
       "      <td>120.0</td>\n",
       "      <td>113.0</td>\n",
       "      <td>108.0</td>\n",
       "    </tr>\n",
       "    <tr>\n",
       "      <td>94.0</td>\n",
       "      <td>140.0</td>\n",
       "      <td>121.0</td>\n",
       "      <td>96.0</td>\n",
       "      <td>89.0</td>\n",
       "    </tr>\n",
       "    <tr>\n",
       "      <td>71.0</td>\n",
       "      <td>84.0</td>\n",
       "      <td>113.0</td>\n",
       "      <td>98.0</td>\n",
       "      <td>78.0</td>\n",
       "    </tr>\n",
       "    <tr>\n",
       "      <td>111.0</td>\n",
       "      <td>106.0</td>\n",
       "      <td>102.0</td>\n",
       "      <td>109.0</td>\n",
       "      <td>109.0</td>\n",
       "    </tr>\n",
       "    <tr>\n",
       "      <td>109.0</td>\n",
       "      <td>109.0</td>\n",
       "      <td>129.0</td>\n",
       "      <td>102.0</td>\n",
       "      <td>108.0</td>\n",
       "    </tr>\n",
       "    <tr>\n",
       "      <td>100.0</td>\n",
       "      <td>104.0</td>\n",
       "      <td>83.0</td>\n",
       "      <td>100.0</td>\n",
       "      <td>102.0</td>\n",
       "    </tr>\n",
       "    <tr>\n",
       "      <td>127.0</td>\n",
       "      <td>150.0</td>\n",
       "      <td>118.0</td>\n",
       "      <td>107.0</td>\n",
       "      <td>110.0</td>\n",
       "    </tr>\n",
       "    <tr>\n",
       "      <td>99.0</td>\n",
       "      <td>98.0</td>\n",
       "      <td>125.0</td>\n",
       "      <td>108.0</td>\n",
       "      <td>95.0</td>\n",
       "    </tr>\n",
       "    <tr>\n",
       "      <td>82.0</td>\n",
       "      <td>120.0</td>\n",
       "      <td>94.0</td>\n",
       "      <td>95.0</td>\n",
       "      <td>90.0</td>\n",
       "    </tr>\n",
       "    <tr>\n",
       "      <td>67.0</td>\n",
       "      <td>74.0</td>\n",
       "      <td>121.0</td>\n",
       "      <td>91.0</td>\n",
       "      <td>85.0</td>\n",
       "    </tr>\n",
       "    <tr>\n",
       "      <td>109.0</td>\n",
       "      <td>96.0</td>\n",
       "      <td>114.0</td>\n",
       "      <td>114.0</td>\n",
       "      <td>103.0</td>\n",
       "    </tr>\n",
       "    <tr>\n",
       "      <td>78.0</td>\n",
       "      <td>104.0</td>\n",
       "      <td>73.0</td>\n",
       "      <td>93.0</td>\n",
       "      <td>80.0</td>\n",
       "    </tr>\n",
       "    <tr>\n",
       "      <td>115.0</td>\n",
       "      <td>94.0</td>\n",
       "      <td>121.0</td>\n",
       "      <td>115.0</td>\n",
       "      <td>104.0</td>\n",
       "    </tr>\n",
       "    <tr>\n",
       "      <td>83.0</td>\n",
       "      <td>91.0</td>\n",
       "      <td>129.0</td>\n",
       "      <td>97.0</td>\n",
       "      <td>83.0</td>\n",
       "    </tr>\n",
       "  </tbody>\n",
       "</table>\n",
       "</div>"
      ],
      "text/plain": [
       "             JobProficiency  Test1  Test3\n",
       "88.0  86.0            110.0  100.0   87.0\n",
       "80.0  62.0             97.0   99.0  100.0\n",
       "96.0  110.0           107.0  103.0  103.0\n",
       "76.0  101.0           117.0   93.0   95.0\n",
       "80.0  100.0           101.0   95.0   88.0\n",
       "73.0  78.0             85.0   95.0   84.0\n",
       "58.0  120.0            77.0   80.0   74.0\n",
       "116.0 105.0           122.0  116.0  102.0\n",
       "104.0 112.0           119.0  106.0  105.0\n",
       "99.0  120.0            89.0  105.0   97.0\n",
       "64.0  87.0             81.0   90.0   88.0\n",
       "126.0 133.0           120.0  113.0  108.0\n",
       "94.0  140.0           121.0   96.0   89.0\n",
       "71.0  84.0            113.0   98.0   78.0\n",
       "111.0 106.0           102.0  109.0  109.0\n",
       "109.0 109.0           129.0  102.0  108.0\n",
       "100.0 104.0            83.0  100.0  102.0\n",
       "127.0 150.0           118.0  107.0  110.0\n",
       "99.0  98.0            125.0  108.0   95.0\n",
       "82.0  120.0            94.0   95.0   90.0\n",
       "67.0  74.0            121.0   91.0   85.0\n",
       "109.0 96.0            114.0  114.0  103.0\n",
       "78.0  104.0            73.0   93.0   80.0\n",
       "115.0 94.0            121.0  115.0  104.0\n",
       "83.0  91.0            129.0   97.0   83.0"
      ]
     },
     "execution_count": 110,
     "metadata": {},
     "output_type": "execute_result"
    }
   ],
   "source": [
    "#Show the data \n",
    "df_1 = pd.read_csv('JobProficiency.txt', delim_whitespace=True, \n",
    "                 names = ['JobProficiency', 'Test1', 'Test3']) \n",
    "n = df_1.shape[0] \n",
    "df_1.head(n)"
   ]
  },
  {
   "cell_type": "code",
   "execution_count": 111,
   "metadata": {},
   "outputs": [
    {
     "name": "stdout",
     "output_type": "stream",
     "text": [
      "  i       ei        hii         ti    \n",
      "  1    3.307787   0.085485   0.649988 \n",
      "  2    5.493973   0.088065   1.100843 \n",
      "  3   -2.524810   0.079287  -0.492376 \n",
      "  4   -1.156637   0.127755  -0.230709 \n",
      "  5   -0.454591   0.059256  -0.087217 \n",
      "  6    0.211475   0.083438   0.041099 \n",
      "  7   -2.075658   0.270959  -0.454510 \n",
      "  8   -4.484195   0.209026  -0.958378 \n",
      "  9   -0.691342   0.081989  -0.134305 \n",
      " 10   -6.655796   0.051904  -1.323779 \n",
      " 11   -2.808615   0.113523  -0.559120 \n",
      " 12    1.228612   0.122195   0.244326 \n",
      " 13   -2.216097   0.053497  -0.425629 \n",
      " 14   -9.348887   0.229696  -2.198011 \n",
      " 15    2.929787   0.116587   0.584653 \n",
      " 16   12.646853   0.180590   3.156277 \n",
      " 17    9.035552   0.101700   1.923641 \n",
      " 18    7.244067   0.144911   1.537353 \n",
      " 19   -4.459348   0.106924  -0.894510 \n",
      " 20   -5.423741   0.058460  -1.067822 \n",
      " 21    2.898127   0.091213   0.569978 \n",
      " 22   -4.701666   0.148600  -0.968994 \n",
      " 23   -0.202010   0.122840  -0.040132 \n",
      " 24    0.172044   0.162718   0.034983 \n",
      " 25    2.035116   0.109382   0.402766 \n"
     ]
    }
   ],
   "source": [
    "# y against x1 and x2 \n",
    "lm = smf.ols('JobProficiency~Test1+Test3', data=df).fit() \n",
    "X = df_1[['Test1', 'Test3']].to_numpy() \n",
    "X = sm.add_constant(X) \n",
    "y = df['JobProficiency'].to_numpy() \n",
    "# Find the H matrix \n",
    "H = np.dot(np.dot(X, np.linalg.inv(np.dot(X.T,X))), X.T)\n",
    "# Find standardized delted residuals (externally studentized residuals) \n",
    "t = lm.resid * np.sqrt((n-3-1)/(lm.ssr*(1-np.diag(H))-lm.resid**2)) \n",
    "print('{:^5} {:^10} {:^10} {:^10}'.format('i', 'ei', 'hii', 'ti')) \n",
    "for i in range(1, n+1):\n",
    "    print('{:^5d} {:^10f} {:^10f} {:^10f}'.format(i, lm.resid[i-1], H[i-1,i-1],\n",
    "t[i-1]))"
   ]
  },
  {
   "cell_type": "code",
   "execution_count": 112,
   "metadata": {},
   "outputs": [
    {
     "name": "stdout",
     "output_type": "stream",
     "text": [
      "t calculated from OLSInfluence is: \n",
      "88.0   86.0     0.253556\n",
      "80.0   62.0    -0.508568\n",
      "96.0   110.0   -0.112846\n",
      "76.0   101.0    1.302025\n",
      "80.0   100.0    0.007335\n",
      "73.0   78.0    -1.090111\n",
      "58.0   120.0   -0.649733\n",
      "116.0  105.0   -0.028171\n",
      "104.0  112.0    0.479370\n",
      "99.0   120.0   -1.508293\n",
      "64.0   87.0    -1.007591\n",
      "126.0  133.0    0.066469\n",
      "94.0   140.0    1.291054\n",
      "71.0   84.0     0.624421\n",
      "111.0  106.0   -0.876120\n",
      "109.0  109.0    1.593999\n",
      "100.0  104.0   -1.598369\n",
      "127.0  150.0    0.368011\n",
      "99.0   98.0     0.727923\n",
      "82.0   120.0   -0.446371\n",
      "67.0   74.0     1.715376\n",
      "109.0  96.0    -0.431160\n",
      "78.0   104.0   -1.910681\n",
      "115.0  94.0    -0.018627\n",
      "83.0   91.0     1.870476\n",
      "dtype: float64\n"
     ]
    }
   ],
   "source": [
    "# y against x1 and x3\n",
    "lm = smf.ols('JobProficiency~Test1+Test3', data=df_1).fit() \n",
    "# Use OLSInfluence to find externally studentized residuals: \n",
    "t = OLSInfluence(lm).resid_studentized_external \n",
    "print('t calculated from OLSInfluence is: ') \n",
    "print(t)"
   ]
  },
  {
   "cell_type": "markdown",
   "metadata": {},
   "source": [
    "Note that cases 19, 14, and 21 have the largest absoulte studentized Deleted Residuals. Incidentally, consideration of the residuals $e_i$ (Shown in Coulumn 1) here would have identified cases 19, 14, and 21 as the most outlying ones. We will test wheather case 19, which has the largest studentized Deleted Residual, is an outlier from a change in the model (using $\\alpha = 0.05$)."
   ]
  },
  {
   "cell_type": "code",
   "execution_count": 113,
   "metadata": {},
   "outputs": [
    {
     "name": "stdout",
     "output_type": "stream",
     "text": [
      "t(1-alpha/2; n-p-1) =  2.079613844727662\n"
     ]
    }
   ],
   "source": [
    "alpha = 0.05\n",
    "print('t(1-alpha/2; n-p-1) = ', sp.stats.t.ppf(1-alpha/2, n-4))"
   ]
  },
  {
   "cell_type": "markdown",
   "metadata": {},
   "source": [
    "Since\n",
    "\n",
    "$$t \\big( \\frac{1-\\alpha}{2};n-p-1 \\big) = 2.0796$$\n",
    "\n",
    "and $|t_{19}|> t \\big( \\frac{1-\\alpha}{2};n-p-1 \\big)$, we will conclude that 19 is an outlier. \n",
    "\n",
    "Using the same argument, we can see that the rest of the points are not outliers."
   ]
  },
  {
   "cell_type": "markdown",
   "metadata": {},
   "source": [
    "## (C2)\n",
    "\n",
    "Obtain the diagonal elements of the hat matrix. Using the rule of thumb discussed in the notes, identify any outlying $x$ observations."
   ]
  },
  {
   "cell_type": "code",
   "execution_count": 114,
   "metadata": {},
   "outputs": [
    {
     "name": "stdout",
     "output_type": "stream",
     "text": [
      "Fitted values are:  0      82.928084\n",
      "1      92.088299\n",
      "2      98.378349\n",
      "3      91.204837\n",
      "4      89.245479\n",
      "5      81.302527\n",
      "6      80.065391\n",
      "7     101.799056\n",
      "8     102.508969\n",
      "9      95.395356\n",
      "10     82.327552\n",
      "11    109.576841\n",
      "12     96.665178\n",
      "13     78.384666\n",
      "14    105.922655\n",
      "15    101.727457\n",
      "16     95.946944\n",
      "17    110.723920\n",
      "18     94.918205\n",
      "19     89.946601\n",
      "20     82.454765\n",
      "21     99.101707\n",
      "22     80.218385\n",
      "23    101.153436\n",
      "24     81.616676\n",
      "dtype: float64\n",
      "Residuals are:  0      5.071916\n",
      "1    -12.088299\n",
      "2     -2.378349\n",
      "3    -15.204837\n",
      "4     -9.245479\n",
      "5     -8.302527\n",
      "6    -22.065391\n",
      "7     14.200944\n",
      "8      1.491031\n",
      "9      3.604644\n",
      "10   -18.327552\n",
      "11    16.423159\n",
      "12    -2.665178\n",
      "13    -7.384666\n",
      "14     5.077345\n",
      "15     7.272543\n",
      "16     4.053056\n",
      "17    16.276080\n",
      "18     4.081795\n",
      "19    -7.946601\n",
      "20   -15.454765\n",
      "21     9.898293\n",
      "22    -2.218385\n",
      "23    13.846564\n",
      "24     1.383324\n",
      "dtype: float64\n"
     ]
    }
   ],
   "source": [
    "print('Fitted values are: ', results.fittedvalues)\n",
    "print('Residuals are: ', results.resid)"
   ]
  },
  {
   "cell_type": "markdown",
   "metadata": {},
   "source": [
    "The Hat Matrix for the data is as follows:"
   ]
  },
  {
   "cell_type": "code",
   "execution_count": 115,
   "metadata": {},
   "outputs": [
    {
     "name": "stdout",
     "output_type": "stream",
     "text": [
      "H = \n",
      "[[ 8.54849007e-02 -4.97514826e-03 -1.64776731e-03 -6.70701228e-03\n",
      "   5.03632041e-02  7.64368634e-02  5.58111663e-02  7.92391801e-02\n",
      "   2.47737211e-03  4.89040343e-02  2.17599224e-02  2.29667221e-02\n",
      "   4.95654457e-02  1.32709321e-01 -6.43431811e-03 -3.99604978e-02\n",
      "  -1.22913215e-02 -2.43940456e-02  7.91028330e-02  3.73263745e-02\n",
      "   4.70358232e-02  6.12794526e-02  9.10692100e-02  6.04816941e-02\n",
      "   9.43965909e-02]\n",
      " [-4.97514826e-03  8.80651733e-02  7.91454415e-02  9.81425750e-02\n",
      "   3.75453780e-02  1.11278104e-02  5.28322946e-02 -2.08408998e-02\n",
      "   7.08045446e-02  2.51526363e-02  7.34615124e-02  4.03351322e-02\n",
      "   3.69665430e-02 -5.00482216e-02  7.56724316e-02  1.19350628e-01\n",
      "   9.40907302e-02  9.66432772e-02 -9.60582810e-03  5.07541618e-02\n",
      "   4.64651098e-02  1.29945812e-04 -9.23303405e-04 -4.48889167e-04\n",
      "  -9.84303522e-03]\n",
      " [-1.64776731e-03  7.91454415e-02  7.92872296e-02  7.59935354e-02\n",
      "   2.60976240e-02  2.58383325e-03  9.40018725e-03  1.65547284e-02\n",
      "   7.79239588e-02  3.52697660e-02  4.79645677e-02  6.49455808e-02\n",
      "   2.76026830e-02 -4.58070191e-02  8.83175834e-02  1.13052857e-01\n",
      "   8.65289481e-02  1.02942809e-01  1.03927044e-02  3.78545194e-02\n",
      "   2.59558359e-02  3.11799536e-02 -1.21831801e-02  3.26850126e-02\n",
      "  -1.20413919e-02]\n",
      " [-6.70701228e-03  9.81425750e-02  7.59935354e-02  1.27754777e-01\n",
      "   5.52871822e-02  2.63963234e-02  1.18483616e-01 -7.36350269e-02\n",
      "   5.75760769e-02  1.07486551e-02  1.10058662e-01  2.56414934e-03\n",
      "   5.15556010e-02 -4.98028528e-02  5.36040479e-02  1.23061405e-01\n",
      "   1.01633709e-01  8.27353546e-02 -3.65596622e-02  6.97326117e-02\n",
      "   7.74362219e-02 -4.45037202e-02  1.94140564e-02 -4.82353015e-02\n",
      "  -2.73498328e-03]\n",
      " [ 5.03632041e-02  3.75453780e-02  2.60976240e-02  5.52871822e-02\n",
      "   5.92562507e-02  6.38176367e-02  1.05321281e-01  1.15114866e-03\n",
      "   1.77968952e-02  2.89263459e-02  6.92896437e-02  3.29105373e-04\n",
      "   5.61092255e-02  6.46396800e-02  7.21547328e-03  2.24025700e-02\n",
      "   3.32580064e-02  1.00884840e-02  2.51870031e-02  5.69755576e-02\n",
      "   7.07040046e-02  4.02415936e-03  7.23923800e-02  8.77134234e-04\n",
      "   6.09446260e-02]\n",
      " [ 7.64368634e-02  1.11278104e-02  2.58383325e-03  2.63963234e-02\n",
      "   6.38176367e-02  8.34380141e-02  1.09346561e-01  2.75456717e-02\n",
      "  -2.59787604e-03  3.51000523e-02  5.61035044e-02 -6.51337382e-03\n",
      "   6.04553689e-02  1.17497060e-01 -1.75897740e-02 -2.34844650e-02\n",
      "   2.86044820e-03 -2.55805213e-02  4.95387204e-02  5.40074480e-02\n",
      "   7.23616139e-02  1.95549244e-02  9.99727386e-02  1.61926565e-02\n",
      "   9.14287614e-02]\n",
      " [ 5.58111663e-02  5.28322946e-02  9.40018725e-03  1.18483616e-01\n",
      "   1.05321281e-01  1.09346561e-01  2.70959063e-01 -1.20936223e-01\n",
      "  -2.29223133e-02 -4.76846721e-03  1.55837716e-01 -9.66642814e-02\n",
      "   9.42116742e-02  8.50746192e-02 -5.72574536e-02  1.44718747e-02\n",
      "   4.07163679e-02 -3.80571997e-02 -3.30656882e-02  1.03308641e-01\n",
      "   1.48753388e-01 -1.01735969e-01  1.33578414e-01 -1.12845576e-01\n",
      "   9.01463067e-02]\n",
      " [ 7.92391801e-02 -2.08408998e-02  1.65547284e-02 -7.36350269e-02\n",
      "   1.15114866e-03  2.75456717e-02 -1.20936223e-01  2.09025801e-01\n",
      "   4.62511073e-02  8.47422732e-02 -7.03382520e-02  1.26540376e-01\n",
      "   8.85039804e-03  1.10031097e-01  6.27502247e-02 -3.07363055e-02\n",
      "  -1.97402812e-02  2.75558337e-02  1.40833175e-01 -1.20461128e-02\n",
      "  -3.62444796e-02  1.73831410e-01  2.53444344e-02  1.81530659e-01\n",
      "   6.27400627e-02]\n",
      " [ 2.47737211e-03  7.08045446e-02  7.79239588e-02  5.75760769e-02\n",
      "   1.77968952e-02 -2.59787604e-03 -2.29223133e-02  4.62511073e-02\n",
      "   8.19888463e-02  4.32434699e-02  2.80177254e-02  8.29757623e-02\n",
      "   2.08514219e-02 -3.93225310e-02  9.62511193e-02  1.05461589e-01\n",
      "   7.89577642e-02  1.05438144e-01  2.69135861e-02  2.79942808e-02\n",
      "   1.06774810e-02  5.54381322e-02 -1.89043152e-02  5.84926590e-02\n",
      "  -1.17849010e-02]\n",
      " [ 4.89040343e-02  2.51526363e-02  3.52697660e-02  1.07486551e-02\n",
      "   2.89263459e-02  3.51000523e-02 -4.76846721e-03  8.47422732e-02\n",
      "   4.32434699e-02  5.19040302e-02  1.04920841e-02  6.44211566e-02\n",
      "   3.10697717e-02  5.54211689e-02  4.81303206e-02  2.38657807e-02\n",
      "   2.57526355e-02  3.92131893e-02  6.60514405e-02  2.58394928e-02\n",
      "   1.88092163e-02  7.58251419e-02  3.39000539e-02  7.79685677e-02\n",
      "   4.40171836e-02]\n",
      " [ 2.17599224e-02  7.34615124e-02  4.79645677e-02  1.10058662e-01\n",
      "   6.92896437e-02  5.61035044e-02  1.55837716e-01 -7.03382520e-02\n",
      "   2.80177254e-02  1.04920841e-02  1.13522830e-01 -2.40191312e-02\n",
      "   6.37395412e-02  9.78438357e-03  1.46639528e-02  7.32938791e-02\n",
      "   7.12079447e-02  3.56537623e-02 -2.26408974e-02  7.58827133e-02\n",
      "   9.47865884e-02 -4.93484426e-02  6.06106397e-02 -5.48985450e-02\n",
      "   3.51136950e-02]\n",
      " [ 2.29667221e-02  4.03351322e-02  6.49455808e-02  2.56414934e-03\n",
      "   3.29105373e-04 -6.51337382e-03 -9.66642814e-02  1.26540376e-01\n",
      "   8.29757623e-02  6.44211566e-02 -2.40191312e-02  1.22195153e-01\n",
      "   6.90937248e-03 -2.16815068e-03  1.04427183e-01  6.86290325e-02\n",
      "   4.86260191e-02  9.63985086e-02  7.56088589e-02  3.75034497e-03\n",
      "  -2.42813432e-02  1.18511701e-01 -2.30951476e-02  1.25091968e-01\n",
      "   1.51530100e-03]\n",
      " [ 4.95654457e-02  3.69665430e-02  2.76026830e-02  5.15556010e-02\n",
      "   5.61092255e-02  6.04553689e-02  9.42116742e-02  8.85039804e-03\n",
      "   2.08514219e-02  3.10697717e-02  6.37395412e-02  6.90937248e-03\n",
      "   5.34966266e-02  6.23963944e-02  1.19270892e-02  2.36960670e-02\n",
      "   3.32674082e-02  1.38926796e-02  2.86646539e-02  5.39361539e-02\n",
      "   6.54730856e-02  1.08159885e-02  6.78536384e-02  8.20338952e-03\n",
      "   5.84897784e-02]\n",
      " [ 1.32709321e-01 -5.00482216e-02 -4.58070191e-02 -4.98028528e-02\n",
      "   6.46396800e-02  1.17497060e-01  8.50746192e-02  1.10031097e-01\n",
      "  -3.93225310e-02  5.54211689e-02  9.78438357e-03 -2.16815068e-03\n",
      "   6.23963944e-02  2.29696307e-01 -5.92667327e-02 -1.22849803e-01\n",
      "  -6.55058521e-02 -9.44231962e-02  1.14763037e-01  3.82109902e-02\n",
      "   6.03984776e-02  7.48746331e-02  1.48412321e-01  7.26313475e-02\n",
      "   1.52653523e-01]\n",
      " [-6.43431811e-03  7.56724316e-02  8.83175834e-02  5.36040479e-02\n",
      "   7.21547328e-03 -1.75897740e-02 -5.72574536e-02  6.27502247e-02\n",
      "   9.62511193e-02  4.81303206e-02  1.46639528e-02  1.04427183e-01\n",
      "   1.19270892e-02 -5.92667327e-02  1.16587279e-01  1.20813838e-01\n",
      "   8.65853593e-02  1.25767983e-01  3.12586092e-02  1.96180969e-02\n",
      "  -5.42967855e-03  7.19309284e-02 -3.94156295e-02  7.66425443e-02\n",
      "  -2.67704777e-02]\n",
      " [-3.99604978e-02  1.19350628e-01  1.13052857e-01  1.23061405e-01\n",
      "   2.24025700e-02 -2.34844650e-02  1.44718747e-02 -3.07363055e-02\n",
      "   1.05461589e-01  2.38657807e-02  7.32938791e-02  6.86290325e-02\n",
      "   2.36960670e-02 -1.22849803e-01  1.20813838e-01  1.80589912e-01\n",
      "   1.32115883e-01  1.52642121e-01 -2.96125222e-02  4.53460875e-02\n",
      "   2.87003410e-02  1.09197691e-03 -4.90149763e-02  2.38547385e-03\n",
      "  -5.53127473e-02]\n",
      " [-1.22913215e-02  9.40907302e-02  8.65289481e-02  1.01633709e-01\n",
      "   3.32580064e-02  2.86044820e-03  4.07163679e-02 -1.97402812e-02\n",
      "   7.89577642e-02  2.57526355e-02  7.12079447e-02  4.86260191e-02\n",
      "   3.32674082e-02 -6.55058521e-02  8.65853593e-02  1.32115883e-01\n",
      "   1.01699522e-01  1.09364724e-01 -1.22161066e-02  4.84567855e-02\n",
      "   4.08197884e-02  3.03908368e-03 -1.23571346e-02  3.04848555e-03\n",
      "  -1.99189167e-02]\n",
      " [-2.43940456e-02  9.66432772e-02  1.02942809e-01  8.27353546e-02\n",
      "   1.00884840e-02 -2.55805213e-02 -3.80571997e-02  2.75558337e-02\n",
      "   1.05438144e-01  3.92131893e-02  3.56537623e-02  9.63985086e-02\n",
      "   1.38926796e-02 -9.44231962e-02  1.25767983e-01  1.52642121e-01\n",
      "   1.09364724e-01  1.44911345e-01  6.03951969e-03  2.79229866e-02\n",
      "   3.78895264e-03  4.66991963e-02 -5.10234153e-02  5.05033920e-02\n",
      "  -4.47238840e-02]\n",
      " [ 7.91028330e-02 -9.60582810e-03  1.03927044e-02 -3.65596622e-02\n",
      "   2.51870031e-02  4.95387204e-02 -3.30656882e-02  1.40833175e-01\n",
      "   2.69135861e-02  6.60514405e-02 -2.26408974e-02  7.56088589e-02\n",
      "   2.86646539e-02  1.14763037e-01  3.12586092e-02 -2.96125222e-02\n",
      "  -1.22161066e-02  6.03951969e-03  1.06924039e-01  1.30111445e-02\n",
      "   5.18847064e-03  1.15614086e-01  5.47592774e-02  1.19091736e-01\n",
      "   7.47578099e-02]\n",
      " [ 3.73263745e-02  5.07541618e-02  3.78545194e-02  6.97326117e-02\n",
      "   5.69755576e-02  5.40074480e-02  1.03308641e-01 -1.20461128e-02\n",
      "   2.79942808e-02  2.58394928e-02  7.58827133e-02  3.75034497e-03\n",
      "   5.39361539e-02  3.82109902e-02  1.96180969e-02  4.53460875e-02\n",
      "   4.84567855e-02  2.79229866e-02  1.30111445e-02  5.84596124e-02\n",
      "   6.98752000e-02 -3.74122316e-03  5.86022007e-02 -6.78062690e-03\n",
      "   4.57025584e-02]\n",
      " [ 4.70358232e-02  4.64651098e-02  2.59558359e-02  7.74362219e-02\n",
      "   7.07040046e-02  7.23616139e-02  1.48753388e-01 -3.62444796e-02\n",
      "   1.06774810e-02  1.88092163e-02  9.47865884e-02 -2.42813432e-02\n",
      "   6.54730856e-02  6.03984776e-02 -5.42967855e-03  2.87003410e-02\n",
      "   4.08197884e-02  3.78895264e-03  5.18847064e-03  6.98752000e-02\n",
      "   9.12132786e-02 -2.70258484e-02  8.36522567e-02 -3.22567675e-02\n",
      "   6.31429827e-02]\n",
      " [ 6.12794526e-02  1.29945812e-04  3.11799536e-02 -4.45037202e-02\n",
      "   4.02415936e-03  1.95549244e-02 -1.01735969e-01  1.73831410e-01\n",
      "   5.54381322e-02  7.58251419e-02 -4.93484426e-02  1.18511701e-01\n",
      "   1.08159885e-02  7.48746331e-02  7.19309284e-02  1.09197691e-03\n",
      "   3.03908368e-03  4.66991963e-02  1.15614086e-01 -3.74122316e-03\n",
      "  -2.70258484e-02  1.48599678e-01  1.37366486e-02  1.55391507e-01\n",
      "   4.47866564e-02]\n",
      " [ 9.10692100e-02 -9.23303405e-04 -1.21831801e-02  1.94140564e-02\n",
      "   7.23923800e-02  9.99727386e-02  1.33578414e-01  2.53444344e-02\n",
      "  -1.89043152e-02  3.39000539e-02  6.06106397e-02 -2.30951476e-02\n",
      "   6.78536384e-02  1.48412321e-01 -3.94156295e-02 -4.90149763e-02\n",
      "  -1.23571346e-02 -5.10234153e-02  5.47592774e-02  5.86022007e-02\n",
      "   8.36522567e-02  1.37366486e-02  1.22840401e-01  9.19790707e-03\n",
      "   1.11580524e-01]\n",
      " [ 6.04816941e-02 -4.48889167e-04  3.26850126e-02 -4.82353015e-02\n",
      "   8.77134234e-04  1.61926565e-02 -1.12845576e-01  1.81530659e-01\n",
      "   5.84926590e-02  7.79685677e-02 -5.48985450e-02  1.25091968e-01\n",
      "   8.20338952e-03  7.26313475e-02  7.66425443e-02  2.38547385e-03\n",
      "   3.04848555e-03  5.05033920e-02  1.19091736e-01 -6.78062690e-03\n",
      "  -3.22567675e-02  1.55391507e-01  9.19790707e-03  1.62717762e-01\n",
      "   4.23318088e-02]\n",
      " [ 9.43965909e-02 -9.84303522e-03 -1.20413919e-02 -2.73498328e-03\n",
      "   6.09446260e-02  9.14287614e-02  9.01463067e-02  6.27400627e-02\n",
      "  -1.17849010e-02  4.40171836e-02  3.51136950e-02  1.51530100e-03\n",
      "   5.84897784e-02  1.52653523e-01 -2.67704777e-02 -5.53127473e-02\n",
      "  -1.99189167e-02 -4.47238840e-02  7.47578099e-02  4.57025584e-02\n",
      "   6.31429827e-02  4.47866564e-02  1.11580524e-01  4.23318088e-02\n",
      "   1.09382168e-01]]\n"
     ]
    }
   ],
   "source": [
    "H = np.dot(np.dot(X, np.linalg.inv(np.dot(X.T,X))), X.T) \n",
    "print('H = ')\n",
    "print(H)"
   ]
  },
  {
   "cell_type": "code",
   "execution_count": 116,
   "metadata": {},
   "outputs": [
    {
     "name": "stdout",
     "output_type": "stream",
     "text": [
      "  i       ei        hii         ti    \n",
      "  1    3.307787   0.085485   0.649988 \n",
      "  2    5.493973   0.088065   1.100843 \n",
      "  3   -2.524810   0.079287  -0.492376 \n",
      "  4   -1.156637   0.127755  -0.230709 \n",
      "  5   -0.454591   0.059256  -0.087217 \n",
      "  6    0.211475   0.083438   0.041099 \n",
      "  7   -2.075658   0.270959  -0.454510 \n",
      "  8   -4.484195   0.209026  -0.958378 \n",
      "  9   -0.691342   0.081989  -0.134305 \n",
      " 10   -6.655796   0.051904  -1.323779 \n",
      " 11   -2.808615   0.113523  -0.559120 \n",
      " 12    1.228612   0.122195   0.244326 \n",
      " 13   -2.216097   0.053497  -0.425629 \n",
      " 14   -9.348887   0.229696  -2.198011 \n",
      " 15    2.929787   0.116587   0.584653 \n",
      " 16   12.646853   0.180590   3.156277 \n",
      " 17    9.035552   0.101700   1.923641 \n",
      " 18    7.244067   0.144911   1.537353 \n",
      " 19   -4.459348   0.106924  -0.894510 \n",
      " 20   -5.423741   0.058460  -1.067822 \n",
      " 21    2.898127   0.091213   0.569978 \n",
      " 22   -4.701666   0.148600  -0.968994 \n",
      " 23   -0.202010   0.122840  -0.040132 \n",
      " 24    0.172044   0.162718   0.034983 \n",
      " 25    2.035116   0.109382   0.402766 \n"
     ]
    }
   ],
   "source": [
    "# y against x1 and x2 \n",
    "lm = smf.ols('JobProficiency~Test1+Test3', data=df).fit() \n",
    "X = df_1[['Test1', 'Test3']].to_numpy() \n",
    "X = sm.add_constant(X) \n",
    "y = df['JobProficiency'].to_numpy() \n",
    "# Find the H matrix \n",
    "H = np.dot(np.dot(X, np.linalg.inv(np.dot(X.T,X))), X.T)\n",
    "# Find standardized delted residuals (externally studentized residuals) \n",
    "t = lm.resid * np.sqrt((n-3-1)/(lm.ssr*(1-np.diag(H))-lm.resid**2)) \n",
    "print('{:^5} {:^10} {:^10} {:^10}'.format('i', 'ei', 'hii', 'ti')) \n",
    "for i in range(1, n+1):\n",
    "    print('{:^5d} {:^10f} {:^10f} {:^10f}'.format(i, lm.resid[i-1], H[i-1,i-1],\n",
    "t[i-1]))"
   ]
  },
  {
   "cell_type": "markdown",
   "metadata": {},
   "source": [
    "The diagonal elements of the hat matrix are shown above in the third column.\n",
    "\n",
    "Now, we will use the rule of thumb described in the notes to identify any outlying $x$ observations.\n",
    "\n",
    "From the notes we know that $h_{ii}$, the diagonal elements of the hat matrix, is the measure of the distance between the $x$ values for the ith case and the means of the $x$ values for all $n$ cases.\n",
    "\n",
    "Thus, a large $h_{ii}$ value indicates that the ith case is distant from the center of all $x$ observations."
   ]
  },
  {
   "cell_type": "markdown",
   "metadata": {},
   "source": [
    "The diagonal element $h_{ii}$ in this contect is called the leverage (in terms of the $x$ values) of the ith case.\n",
    "\n",
    "The figure below illustrates the role of the leverage values $h_{ii}$ as distance measures for Example 1. "
   ]
  },
  {
   "cell_type": "code",
   "execution_count": 117,
   "metadata": {},
   "outputs": [
    {
     "data": {
      "image/png": "[encoded data removed]",
      "text/plain": [
       "<Figure size 432x288 with 1 Axes>"
      ]
     },
     "metadata": {
      "needs_background": "light"
     },
     "output_type": "display_data"
    }
   ],
   "source": [
    "#x1 va x3 Scatter Plot\n",
    "df_1.plot(x='Test1', y='Test3', kind='scatter', marker='o', s=50)\n",
    "for i in range(n): \n",
    "    plt.text(df.iloc[i,0], df.iloc[i,1], str(i+1))"
   ]
  },
  {
   "cell_type": "markdown",
   "metadata": {},
   "source": [
    "We calculatd the leverage values for $h_{ii}$ earlier. Recall that the largest leverage values are $h_{7,7} = 0.270959$, $h_{8,8} = 0.209026$, and $h_{14, 14} = 0.229696$. \n",
    "\n",
    "Note that the leverage value is \n",
    "\n",
    "$$\\frac{2p}{n} = \\frac{4}{25} = 0.16$$.\n",
    "\n",
    "Since the two largest leverage values both exceed the criterion of twice the mean leverage values and are separated by a substantial gap from the next largest leverage values which are $h_{16, 16} = 0.180590$ amd $h_{24, 24} = 0.162718$. \n",
    "\n",
    "Thus, cases 7, 8, and 14 are outlying $x$ observations as found by using the rule of tumb in the notes. "
   ]
  },
  {
   "cell_type": "markdown",
   "metadata": {},
   "source": [
    "## (C3) \n",
    "\n",
    "For those outlying cases in C1 & C2 obtain DFFITS, DFBETAS, & Cook's Distance values for these cases to asses their influence. \n",
    "\n",
    "What do you conclude??\n",
    "\n",
    "In (C1), the outlying $y$ observations were Case 19. \n",
    "\n",
    "In (C2), the outlying $x$ observations were the following:\n",
    "\n",
    "  1.) Case 7: $h_{7, 7} = 0.270959$\n",
    "  \n",
    "  2.) Case 8: $h_{8, 8} = 0.209026$\n",
    "   \n",
    "  3.) Case 14: $h_{14, 14} = 0.229696$"
   ]
  },
  {
   "cell_type": "markdown",
   "metadata": {},
   "source": [
    "The DFFITS value for the data is as follows."
   ]
  },
  {
   "cell_type": "code",
   "execution_count": 118,
   "metadata": {},
   "outputs": [
    {
     "name": "stdout",
     "output_type": "stream",
     "text": [
      "dffits calculated from OLSInfluence is: \n",
      "88.0   86.0     0.077522\n",
      "80.0   62.0    -0.158041\n",
      "96.0   110.0   -0.033115\n",
      "76.0   101.0    0.498297\n",
      "80.0   100.0    0.001841\n",
      "73.0   78.0    -0.328906\n",
      "58.0   120.0   -0.396105\n",
      "116.0  105.0   -0.014482\n",
      "104.0  112.0    0.143260\n",
      "99.0   120.0   -0.352907\n",
      "64.0   87.0    -0.360572\n",
      "126.0  133.0    0.024800\n",
      "94.0   140.0    0.306935\n",
      "71.0   84.0     0.340976\n",
      "111.0  106.0   -0.318279\n",
      "109.0  109.0    0.748315\n",
      "100.0  104.0   -0.537806\n",
      "127.0  150.0    0.151498\n",
      "99.0   98.0     0.251871\n",
      "82.0   120.0   -0.111226\n",
      "67.0   74.0     0.543447\n",
      "109.0  96.0    -0.180128\n",
      "78.0   104.0   -0.715022\n",
      "115.0  94.0    -0.008212\n",
      "83.0   91.0     0.655510\n",
      "dtype: float64\n"
     ]
    }
   ],
   "source": [
    "lm = smf.ols('JobProficiency~Test1+Test3', data=df_1).fit() \n",
    "# Use OLSInfluence to find DFFITS:\n",
    "dffits = OLSInfluence(lm).dffits[0]\n",
    "print('dffits calculated from OLSInfluence is: ') \n",
    "print(dffits)"
   ]
  },
  {
   "cell_type": "markdown",
   "metadata": {},
   "source": [
    "Thus, $(DFFITS)_7 = -0.3961$\n",
    "\n",
    "$(DFFITS)_8 = -0.014482$\n",
    "\n",
    "$(DFFITS)_{14} = 0.340976$\n",
    "\n",
    "$(DFFITS)_{19} = 0.251871$\n",
    "\n",
    "A guideline for identifying influential cases for DFFITS, the notes suggest considering a case influential if the absolute value of DFFITS exceeds 1 for small to medium data sets. Thus, none of the cases that we are considering would be considered influential."
   ]
  },
  {
   "cell_type": "markdown",
   "metadata": {},
   "source": [
    "Now, we will obtain the DFBETAS values. "
   ]
  },
  {
   "cell_type": "code",
   "execution_count": 119,
   "metadata": {},
   "outputs": [
    {
     "name": "stdout",
     "output_type": "stream",
     "text": [
      "DFBETAS calculated from OLSInfluence is: \n",
      "[[ 9.15441883e-03  4.10092897e-02 -5.63355020e-02]\n",
      " [-3.16876680e-02  1.03429688e-01 -1.14646884e-01]\n",
      " [ 3.81905739e-03  1.39059591e-02 -2.25345720e-02]\n",
      " [ 2.75186021e-01 -4.12897988e-01  3.28218113e-01]\n",
      " [ 1.13566841e-03 -4.10278540e-04 -2.81087549e-04]\n",
      " [-1.70344869e-01 -4.74968770e-02  1.82053539e-01]\n",
      " [-3.76434531e-01  2.07864255e-01  2.49607122e-02]\n",
      " [ 1.05458243e-02 -1.22446205e-02  6.81288865e-03]\n",
      " [-5.07776130e-02 -2.76516475e-02  8.31509994e-02]\n",
      " [ 1.23211767e-01 -1.54409305e-01  7.79305044e-02]\n",
      " [-2.84328856e-01  2.55968677e-01 -1.14992643e-01]\n",
      " [-1.86421218e-02  9.34060985e-03  3.95580619e-03]\n",
      " [ 1.68827490e-01 -5.47537980e-02 -4.69991049e-02]\n",
      " [ 5.65131539e-02  2.11034420e-01 -3.06446141e-01]\n",
      " [ 1.58668515e-01  3.75437535e-02 -1.88420183e-01]\n",
      " [-1.52350092e-02 -4.84584332e-01  6.58460219e-01]\n",
      " [-6.18702000e-02  3.46071373e-01 -4.17740998e-01]\n",
      " [-4.92978836e-02 -5.50166261e-02  1.15677322e-01]\n",
      " [-1.14873242e-01  1.99209775e-01 -1.52852561e-01]\n",
      " [-6.92178570e-02  4.70317826e-02 -1.11265102e-02]\n",
      " [ 4.35731369e-01 -2.34325553e-01 -2.43059464e-02]\n",
      " [ 1.33916813e-01 -1.34858313e-01  5.91379133e-02]\n",
      " [-3.98285852e-01 -1.29971007e-01  4.58512041e-01]\n",
      " [ 6.30139541e-03 -6.13959377e-03  2.54062390e-03]\n",
      " [ 2.04653283e-01  2.76843734e-01 -4.92359498e-01]]\n"
     ]
    }
   ],
   "source": [
    "# Use OLSInfluence to find DFBETAS:\n",
    "dfbetas = OLSInfluence(lm).dfbetas \n",
    "print('DFBETAS calculated from OLSInfluence is: ') \n",
    "print(dfbetas)"
   ]
  },
  {
   "cell_type": "markdown",
   "metadata": {},
   "source": [
    "For Case 7 the DFBETAS values are as follows: [-3.76434531e-01  2.07864255e-01  2.49607122e-02]\n",
    "\n",
    "For Case 8: [ 1.05458243e-02 -1.22446205e-02  6.81288865e-03]\n",
    "\n",
    "For Case 14: [ 5.65131539e-02  2.11034420e-01 -3.06446141e-01]\n",
    "\n",
    "For Case 19:  [-1.14873242e-01  1.99209775e-01 -1.52852561e-01]\n",
    "\n",
    "Following the guideline for identifying influential cases from the notes, that we should consider a case influential if the absolute value of DFBETAS exceeds 1 for small for medium data sets (recall that n=25).\n",
    "\n",
    "Notice that none of the absoulte values of DFBETAS exceeds 1 for any of the DFBETAS values we are considering. Hence, we would consider none of these cases influential."
   ]
  },
  {
   "cell_type": "markdown",
   "metadata": {},
   "source": [
    "Now, we will obtain Cook's Distance values:"
   ]
  },
  {
   "cell_type": "code",
   "execution_count": 120,
   "metadata": {},
   "outputs": [
    {
     "name": "stdout",
     "output_type": "stream",
     "text": [
      "Cooks distance calculated from OLSInfluence is: \n",
      "88.0   86.0     0.002092\n",
      "80.0   62.0     0.008616\n",
      "96.0   110.0    0.000383\n",
      "76.0   101.0    0.080231\n",
      "80.0   100.0    0.000001\n",
      "73.0   78.0     0.035754\n",
      "58.0   120.0    0.053711\n",
      "116.0  105.0    0.000073\n",
      "104.0  112.0    0.007089\n",
      "99.0   120.0    0.039240\n",
      "64.0   87.0     0.043307\n",
      "126.0  133.0    0.000215\n",
      "94.0   140.0    0.030479\n",
      "71.0   84.0     0.039860\n",
      "111.0  106.0    0.034128\n",
      "109.0  109.0    0.174441\n",
      "100.0  104.0    0.090048\n",
      "127.0  150.0    0.007963\n",
      "99.0   98.0     0.021608\n",
      "82.0   120.0    0.004279\n",
      "67.0   74.0     0.090458\n",
      "109.0  96.0     0.011231\n",
      "78.0   104.0    0.152094\n",
      "115.0  94.0     0.000024\n",
      "83.0   91.0     0.128623\n",
      "dtype: float64\n"
     ]
    }
   ],
   "source": [
    "# Use OLSInfluence to find Cook's distance:\n",
    "D = OLSInfluence(lm).cooks_distance[0] \n",
    "print('Cooks distance calculated from OLSInfluence is: ')\n",
    "print(D)"
   ]
  },
  {
   "cell_type": "markdown",
   "metadata": {},
   "source": [
    "For Case 7 the Cook's distance value is: $D_7 = 0.053711$\n",
    "\n",
    "For Case 8: $D_8 = 0.000073$\n",
    "\n",
    "For Case 14: $D_{14} =  0.030479$\n",
    "\n",
    "For Case 19: $D_{19} = 0.007963$\n",
    "\n",
    "We see that Case 7 has the largest $D_i$ value, with the next largest distance measure being $D_14 = 0.030479$, which is not that much smaller than $D_7$. However, the next largest distance measure is $D_19 = 0.007963$, which is much smaller than the other two distances. \n",
    "\n",
    " The ﬁgures below present the information provided by Cook’s distance measure about the inﬂuence of each case in two different plots. Shown in the left ﬁgure is a proportional inﬂuence plot of the residuals $e_i$ against the corresponding ﬁtted values $\\hat{y}_i$, the size of the plotted points being proportional to Cook’s distance measure $D_i$. The right ﬁgure resents the information about the Cook’s distance measures in the form of an index inﬂuence plot, where Cook’s distance measure $D_i$ is plotted against the corresponding case index $i$. "
   ]
  },
  {
   "cell_type": "code",
   "execution_count": 121,
   "metadata": {},
   "outputs": [
    {
     "data": {
      "image/png": "[encoded data removed]",
      "text/plain": [
       "<Figure size 432x288 with 2 Axes>"
      ]
     },
     "metadata": {
      "needs_background": "light"
     },
     "output_type": "display_data"
    }
   ],
   "source": [
    "plt.subplot(1,2,1)\n",
    "sizevalues = np.abs(D)*500 \n",
    "plt.scatter(lm.fittedvalues, lm.resid, marker='o', s=sizevalues) \n",
    "plt.xlabel('$\\hat{y}$') \n",
    "plt.ylabel('Residual')\n",
    "plt.title('Proportional Influence Plot')\n",
    "\n",
    "plt.subplot(1,2,2) \n",
    "plt.plot(np.arange(1, n+1), D, 'o-') \n",
    "plt.xlabel('Case Index Number')\n",
    "plt.ylabel('Cooks Distance D') \n",
    "plt.title('Index Influence Plot')\n",
    "plt.tight_layout()"
   ]
  },
  {
   "cell_type": "markdown",
   "metadata": {},
   "source": [
    "After looking at the graphs we can see that the cases we are considering are considered less influential & cases that we are not considering are very influential."
   ]
  },
  {
   "cell_type": "markdown",
   "metadata": {},
   "source": [
    "## (C4)\n",
    "\n",
    "Obtain the variance inflation factors. \n",
    "\n",
    "What do they indicate??"
   ]
  },
  {
   "cell_type": "markdown",
   "metadata": {},
   "source": [
    "Now, we will obtain the variance inflation factors."
   ]
  },
  {
   "cell_type": "code",
   "execution_count": 122,
   "metadata": {},
   "outputs": [
    {
     "name": "stdout",
     "output_type": "stream",
     "text": [
      " Variable     (VIF)k   \n",
      "    x1       1.033781  \n",
      "    x2       1.033781  \n",
      "max vif =  1.033781399684168\n",
      "mean_vif =  1.033781399684168\n"
     ]
    }
   ],
   "source": [
    "# Get X variables \n",
    "X = df[['Test1', 'Test3']].to_numpy()\n",
    "\n",
    "# Run vif for each predictor:\n",
    "nparam = 2 \n",
    "vif = np.zeros(nparam,)\n",
    "\n",
    "for i in range(nparam): \n",
    "    vif[i] = variance_inflation_factor(zscore(X), [i])\n",
    "    \n",
    "# print out the results: \n",
    "print('{:^10} {:^12}'.format('Variable', '(VIF)k')) \n",
    "for i in range(nparam): \n",
    "    print('{:^10} {:^12f}'.format('x'+str(i+1), vif[i]))\n",
    "    \n",
    "# Find the maximu vif and the mean: \n",
    "max_vif = vif.max() \n",
    "mean_vif = vif.mean()\n",
    "\n",
    "print('max vif = ', max_vif) \n",
    "print('mean_vif = ', mean_vif)"
   ]
  },
  {
   "cell_type": "markdown",
   "metadata": {},
   "source": [
    "It can be see that multicollinearity among the two predictor variables is not a problem."
   ]
  }
 ],
 "metadata": {
  "kernelspec": {
   "display_name": "Python 3 (ipykernel)",
   "language": "python",
   "name": "python3"
  },
  "language_info": {
   "codemirror_mode": {
    "name": "ipython",
    "version": 3
   },
   "file_extension": ".py",
   "mimetype": "text/x-python",
   "name": "python",
   "nbconvert_exporter": "python",
   "pygments_lexer": "ipython3",
   "version": "3.9.7"
  },
  "latex_envs": {
   "LaTeX_envs_menu_present": true,
   "autoclose": false,
   "autocomplete": true,
   "bibliofile": "biblio.bib",
   "cite_by": "apalike",
   "current_citInitial": 1,
   "eqLabelWithNumbers": true,
   "eqNumInitial": 1,
   "hotkeys": {
    "equation": "Ctrl-E",
    "itemize": "Ctrl-I"
   },
   "labels_anchors": false,
   "latex_user_defs": false,
   "report_style_numbering": false,
   "user_envs_cfg": false
  },
  "name": "Lecture1.ipynb",
  "toc": {
   "base_numbering": 1,
   "nav_menu": {},
   "number_sections": true,
   "sideBar": true,
   "skip_h1_title": false,
   "title_cell": "Table of Contents",
   "title_sidebar": "Contents",
   "toc_cell": false,
   "toc_position": {},
   "toc_section_display": true,
   "toc_window_display": false
  }
 },
 "nbformat": 4,
 "nbformat_minor": 2
}
